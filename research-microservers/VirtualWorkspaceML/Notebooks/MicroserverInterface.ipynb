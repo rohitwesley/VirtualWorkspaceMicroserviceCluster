{
 "cells": [
  {
   "cell_type": "markdown",
   "id": "ce985397-90d0-40f7-81d0-794f0b08dc92",
   "metadata": {
    "tags": []
   },
   "source": [
    "# Virtual Workspace Web App Microserver Interface\n",
    "---"
   ]
  },
  {
   "cell_type": "markdown",
   "id": "8f621b38-58a3-4c60-9892-d867ad76fd24",
   "metadata": {
    "tags": []
   },
   "source": [
    "##  Setup all lib and env:\n",
    "**Python Lib:**\n",
    ">* gradio - *for webbrowser interface*\n",
    "\n",
    "```\n",
    "pip install gradio\n",
    "\n",
    "```"
   ]
  },
  {
   "cell_type": "code",
   "execution_count": null,
   "id": "82172836-929d-439a-ab61-13459b72de91",
   "metadata": {
    "jupyter": {
     "source_hidden": true
    },
    "tags": []
   },
   "outputs": [],
   "source": [
    "# Setup all lib and env\n",
    "\n",
    "# gradio :\n",
    "try:\n",
    "    !python -m pip install -q gradio --upgrade\n",
    "    import gradio                      \n",
    "    print('gradio: already installed')\n",
    "except ImportError:\n",
    "  !python -m pip install -q gradio\n",
    "  print('Installed gradio')\n"
   ]
  },
  {
   "cell_type": "markdown",
   "id": "f1b630a3-abc5-4415-9914-6820e307ca4d",
   "metadata": {
    "jp-MarkdownHeadingCollapsed": true
   },
   "source": [
    "## Test API with a gardio interface"
   ]
  },
  {
   "cell_type": "code",
   "execution_count": null,
   "id": "2031ec4e-8939-4bbe-b728-09abc5895b4a",
   "metadata": {
    "tags": []
   },
   "outputs": [],
   "source": [
    "import gradio as gr\n",
    "import requests\n",
    "from PIL import Image\n",
    "from io import BytesIO\n",
    "\n",
    "# Define API endpoints\n",
    "text_to_image_url = \"http://localhost:8000/text-to-image\"\n",
    "text_to_text_url = \"http://localhost:8000/text-to-text\"\n",
    "text_to_speech_url = \"http://localhost:8000/text-to-speech\"\n",
    "speech_to_text_url = \"http://localhost:8000/speech-to-text\"\n",
    "image_manipulation_url = \"http://localhost:8000/image-manipulation\"\n",
    "\n",
    "# Create input and output components for Gradio interface\n",
    "input_text = gr.inputs.Textbox(label=\"Input Text\")\n",
    "input_file = gr.inputs.File(label=\"Input File\")\n",
    "input_audio = gr.inputs.Audio(label=\"Input Audio\")\n",
    "input_image = gr.inputs.Image(label=\"Input Image\")\n",
    "\n",
    "output_image = gr.outputs.Image(label=\"Output Image\")\n",
    "output_text = gr.outputs.Textbox(label=\"Output Text\")\n",
    "output_audio = gr.outputs.Audio(label=\"Output Audio\")\n",
    "\n",
    "# Define functions to make API requests\n",
    "def text_to_image(text):\n",
    "    response = requests.post(text_to_image_url, json={\"text\": text})\n",
    "    img = Image.open(BytesIO(response.content))\n",
    "    return img\n",
    "\n",
    "def text_to_text(text):\n",
    "    response = requests.post(text_to_text_url, json={\"text\": text})\n",
    "    return response.json()[\"text\"]\n",
    "\n",
    "def text_to_speech(text):\n",
    "    response = requests.post(text_to_speech_url, json={\"text\": text})\n",
    "    return BytesIO(response.content)\n",
    "\n",
    "def speech_to_text(audio):\n",
    "    files = {\"audio\": (\"input_audio.wav\", audio.read(), \"audio/wav\")}\n",
    "    response = requests.post(speech_to_text_url, files=files)\n",
    "    return response.json()[\"text\"]\n",
    "\n",
    "def image_manipulation(file, manipulation_type):\n",
    "    files = {\"image\": (\"input_image.jpg\", file.read(), \"image/jpeg\")}\n",
    "    response = requests.post(image_manipulation_url, files=files, data={\"manipulation_type\": manipulation_type})\n",
    "    img = Image.open(BytesIO(response.content))\n",
    "    return img\n",
    "\n",
    "# Create Gradio interface\n",
    "gr.Interface(\n",
    "    [\n",
    "        gr.inputs.Group(\n",
    "            [\n",
    "                input_text,\n",
    "                gr.inputs.Radio([\"Style Transfer\", \"Colorization\"], label=\"Select Manipulation Type\"),\n",
    "                input_file,\n",
    "                input_audio,\n",
    "                input_image\n",
    "            ],\n",
    "            label=\"Input\"\n",
    "        ),\n",
    "        gr.outputs.Group(\n",
    "            [\n",
    "                output_image,\n",
    "                output_text,\n",
    "                output_audio\n",
    "            ],\n",
    "            label=\"Output\"\n",
    "        )\n",
    "    ],\n",
    "    title=\"Generative Models and Image Manipulation\",\n",
    "    description=\"A collection of generative models and image manipulation algorithms.\",\n",
    "    examples=[\n",
    "        [\"A fluffy cat sitting on a table\"],\n",
    "        [\"A bright red sports car\"],\n",
    "        [gr.Interface.IMAGE_EXAMPLES[\"cat\"], \"Style Transfer\"],\n",
    "        [gr.Interface.AUDIO_EXAMPLES[\"beatbox\"], \"Text-to-Speech\"],\n",
    "        [gr.Interface.IMAGE_EXAMPLES[\"cat\"], \"Colorization\"]\n",
    "    ],\n",
    "    theme=\"default\",\n",
    "    layout=\"vertical\",\n",
    "    live=True,\n",
    "    interpretation=\"default\"\n",
    ").launch()\n"
   ]
  },
  {
   "cell_type": "code",
   "execution_count": null,
   "id": "a83ea260-99f8-4a62-9219-321a9b21c724",
   "metadata": {
    "tags": []
   },
   "outputs": [],
   "source": [
    "import gradio as gr\n",
    "import requests\n",
    "from PIL import Image\n",
    "from io import BytesIO\n",
    "\n",
    "# Define API endpoints\n",
    "text_to_text_url = \"http://localhost:8000/text-to-text\"\n",
    "\n",
    "# Create input and output components for Gradio interface\n",
    "input_text = gr.inputs.Textbox(label=\"Input Text\")\n",
    "input_file = gr.inputs.File(label=\"Input File\")\n",
    "\n",
    "output_text = gr.outputs.Textbox(label=\"Output Text\")\n",
    "def text_to_text(text):\n",
    "    response = requests.post(text_to_text_url, json={\"text\": text})\n",
    "    return response.json()[\"text\"]\n",
    "\n",
    "# Create Gradio interface\n",
    "gr.Interface(\n",
    "    [\n",
    "        gr.inputs.Group(\n",
    "            [\n",
    "                input_text,\n",
    "                input_file\n",
    "            ],\n",
    "            label=\"Input\"\n",
    "        ),\n",
    "        gr.outputs.Group(\n",
    "            [\n",
    "                output_text\n",
    "            ],\n",
    "            label=\"Output\"\n",
    "        )\n",
    "    ],\n",
    "    title=\"Generative Models and Image Manipulation\",\n",
    "    description=\"A collection of generative models and image manipulation algorithms.\",\n",
    "    examples=[\n",
    "        [\"A fluffy cat sitting on a table\"],\n",
    "        [\"A bright red sports car\"]\n",
    "    ],\n",
    "    theme=\"default\",\n",
    "    layout=\"vertical\",\n",
    "    live=True,\n",
    "    interpretation=\"default\"\n",
    ").launch()\n"
   ]
  },
  {
   "cell_type": "markdown",
   "id": "9ae5fdec-e79a-4776-ace2-09de50e6c0dd",
   "metadata": {
    "jp-MarkdownHeadingCollapsed": true
   },
   "source": [
    "## Test Gradio interface Templets"
   ]
  },
  {
   "cell_type": "code",
   "execution_count": null,
   "id": "381afe98-a5b5-4867-b701-ec27f9bcde1a",
   "metadata": {},
   "outputs": [],
   "source": [
    "import gradio as gr\n",
    "\n",
    "def greet(name, is_morning, temperature):\n",
    "    salutation = \"Good morning\" if is_morning else \"Good evening\"\n",
    "    greeting = f\"{salutation} {name}. It is {temperature} degrees today\"\n",
    "    celsius = (temperature - 32) * 5 / 9\n",
    "    return greeting, round(celsius, 2)\n",
    "\n",
    "demo = gr.Interface(\n",
    "    fn=greet,\n",
    "    inputs=[\"text\", \"checkbox\", gr.Slider(0, 100)],\n",
    "    outputs=[\"text\", \"number\"],\n",
    ")\n",
    "demo.launch(share=True)"
   ]
  },
  {
   "cell_type": "code",
   "execution_count": null,
   "id": "adbc2680-fdbe-4d61-8399-6084536a9d83",
   "metadata": {},
   "outputs": [],
   "source": [
    "import gradio as gr\n",
    "\n",
    "def flip_text(x):\n",
    "    return x[::-1]\n",
    "\n",
    "def flip_image(x):\n",
    "    return np.fliplr(x)\n",
    "\n",
    "with gr.Blocks() as demo:\n",
    "    gr.Markdown(\"Flip text or image files using this demo.\")\n",
    "    with gr.Tab(\"Flip Text\"):\n",
    "        text_input = gr.Textbox()\n",
    "        text_output = gr.Textbox()\n",
    "        text_button = gr.Button(\"Flip\")\n",
    "    with gr.Tab(\"Flip Image\"):\n",
    "        with gr.Row():\n",
    "            image_input = gr.Image()\n",
    "            image_output = gr.Image()\n",
    "        image_button = gr.Button(\"Flip\")\n",
    "\n",
    "    with gr.Accordion(\"Open for More!\"):\n",
    "        gr.Markdown(\"Look at me...\")\n",
    "\n",
    "    text_button.click(flip_text, inputs=text_input, outputs=text_output)\n",
    "    image_button.click(flip_image, inputs=image_input, outputs=image_output)\n",
    "\n",
    "demo.launch(share=True)"
   ]
  },
  {
   "cell_type": "markdown",
   "id": "25463bf2-78da-4720-9694-ac3314a1a141",
   "metadata": {},
   "source": [
    "## Test Virtual LLM Transformer API with a gradio interface"
   ]
  },
  {
   "cell_type": "code",
   "execution_count": 1,
   "id": "865f286e-df9c-467e-aba6-c8cdbc72f3c5",
   "metadata": {
    "jupyter": {
     "source_hidden": true
    }
   },
   "outputs": [
    {
     "name": "stdout",
     "output_type": "stream",
     "text": [
      "Running on local URL:  http://127.0.0.1:7860\n",
      "\n",
      "To create a public link, set `share=True` in `launch()`.\n"
     ]
    },
    {
     "data": {
      "text/html": [
       "<div><iframe src=\"http://127.0.0.1:7860/\" width=\"100%\" height=\"500\" allow=\"autoplay; camera; microphone; clipboard-read; clipboard-write;\" frameborder=\"0\" allowfullscreen></iframe></div>"
      ],
      "text/plain": [
       "<IPython.core.display.HTML object>"
      ]
     },
     "metadata": {},
     "output_type": "display_data"
    },
    {
     "data": {
      "text/plain": []
     },
     "execution_count": 1,
     "metadata": {},
     "output_type": "execute_result"
    },
    {
     "name": "stderr",
     "output_type": "stream",
     "text": [
      "Traceback (most recent call last):\n",
      "  File \"C:\\ProgramData\\anaconda3\\envs\\virtualworkspace-microserver\\lib\\site-packages\\requests\\models.py\", line 971, in json\n",
      "    return complexjson.loads(self.text, **kwargs)\n",
      "  File \"C:\\ProgramData\\anaconda3\\envs\\virtualworkspace-microserver\\lib\\json\\__init__.py\", line 346, in loads\n",
      "    return _default_decoder.decode(s)\n",
      "  File \"C:\\ProgramData\\anaconda3\\envs\\virtualworkspace-microserver\\lib\\json\\decoder.py\", line 337, in decode\n",
      "    obj, end = self.raw_decode(s, idx=_w(s, 0).end())\n",
      "  File \"C:\\ProgramData\\anaconda3\\envs\\virtualworkspace-microserver\\lib\\json\\decoder.py\", line 355, in raw_decode\n",
      "    raise JSONDecodeError(\"Expecting value\", s, err.value) from None\n",
      "json.decoder.JSONDecodeError: Expecting value: line 1 column 1 (char 0)\n",
      "\n",
      "During handling of the above exception, another exception occurred:\n",
      "\n",
      "Traceback (most recent call last):\n",
      "  File \"C:\\Users\\wesle\\AppData\\Roaming\\Python\\Python39\\site-packages\\gradio\\routes.py\", line 442, in run_predict\n",
      "    output = await app.get_blocks().process_api(\n",
      "  File \"C:\\Users\\wesle\\AppData\\Roaming\\Python\\Python39\\site-packages\\gradio\\blocks.py\", line 1392, in process_api\n",
      "    result = await self.call_function(\n",
      "  File \"C:\\Users\\wesle\\AppData\\Roaming\\Python\\Python39\\site-packages\\gradio\\blocks.py\", line 1097, in call_function\n",
      "    prediction = await anyio.to_thread.run_sync(\n",
      "  File \"C:\\ProgramData\\anaconda3\\envs\\virtualworkspace-microserver\\lib\\site-packages\\anyio\\to_thread.py\", line 31, in run_sync\n",
      "    return await get_asynclib().run_sync_in_worker_thread(\n",
      "  File \"C:\\ProgramData\\anaconda3\\envs\\virtualworkspace-microserver\\lib\\site-packages\\anyio\\_backends\\_asyncio.py\", line 937, in run_sync_in_worker_thread\n",
      "    return await future\n",
      "  File \"C:\\ProgramData\\anaconda3\\envs\\virtualworkspace-microserver\\lib\\site-packages\\anyio\\_backends\\_asyncio.py\", line 867, in run\n",
      "    result = context.run(func, *args)\n",
      "  File \"C:\\Users\\wesle\\AppData\\Roaming\\Python\\Python39\\site-packages\\gradio\\utils.py\", line 703, in wrapper\n",
      "    response = f(*args, **kwargs)\n",
      "  File \"C:\\Users\\wesle\\AppData\\Local\\Temp\\ipykernel_95108\\1927559602.py\", line 6, in generate_text\n",
      "    return response.json()[\"generated_text\"]\n",
      "  File \"C:\\ProgramData\\anaconda3\\envs\\virtualworkspace-microserver\\lib\\site-packages\\requests\\models.py\", line 975, in json\n",
      "    raise RequestsJSONDecodeError(e.msg, e.doc, e.pos)\n",
      "requests.exceptions.JSONDecodeError: Expecting value: line 1 column 1 (char 0)\n"
     ]
    }
   ],
   "source": [
    "import gradio as gr\n",
    "\n",
    "def generate_text(input_text):\n",
    "    import requests\n",
    "    response = requests.post(\"http://127.0.0.1:8400/generate\", json={\"text\": input_text})\n",
    "    return response.json()[\"generated_text\"]\n",
    "\n",
    "iface = gr.Interface(fn=generate_text, inputs=\"text\", outputs=\"text\", title=\"GPT-2 Text Generation\")\n",
    "iface.launch()"
   ]
  },
  {
   "cell_type": "markdown",
   "id": "d0aa909b-7566-4cd4-954a-46ca02619338",
   "metadata": {},
   "source": [
    "## Test Virtual Image Diffusion Transformer API with a gradio interface"
   ]
  },
  {
   "cell_type": "code",
   "execution_count": 2,
   "id": "ae5407e0-3f5d-407c-adfe-6bc98ca02046",
   "metadata": {
    "jupyter": {
     "source_hidden": true
    }
   },
   "outputs": [
    {
     "name": "stdout",
     "output_type": "stream",
     "text": [
      "Running on local URL:  http://127.0.0.1:7861\n",
      "\n",
      "To create a public link, set `share=True` in `launch()`.\n"
     ]
    },
    {
     "data": {
      "text/html": [
       "<div><iframe src=\"http://127.0.0.1:7861/\" width=\"100%\" height=\"500\" allow=\"autoplay; camera; microphone; clipboard-read; clipboard-write;\" frameborder=\"0\" allowfullscreen></iframe></div>"
      ],
      "text/plain": [
       "<IPython.core.display.HTML object>"
      ]
     },
     "metadata": {},
     "output_type": "display_data"
    },
    {
     "data": {
      "text/plain": []
     },
     "execution_count": 2,
     "metadata": {},
     "output_type": "execute_result"
    },
    {
     "name": "stderr",
     "output_type": "stream",
     "text": [
      "Traceback (most recent call last):\n",
      "  File \"C:\\Users\\wesle\\AppData\\Roaming\\Python\\Python39\\site-packages\\gradio\\routes.py\", line 442, in run_predict\n",
      "    output = await app.get_blocks().process_api(\n",
      "  File \"C:\\Users\\wesle\\AppData\\Roaming\\Python\\Python39\\site-packages\\gradio\\blocks.py\", line 1392, in process_api\n",
      "    result = await self.call_function(\n",
      "  File \"C:\\Users\\wesle\\AppData\\Roaming\\Python\\Python39\\site-packages\\gradio\\blocks.py\", line 1097, in call_function\n",
      "    prediction = await anyio.to_thread.run_sync(\n",
      "  File \"C:\\ProgramData\\anaconda3\\envs\\virtualworkspace-microserver\\lib\\site-packages\\anyio\\to_thread.py\", line 31, in run_sync\n",
      "    return await get_asynclib().run_sync_in_worker_thread(\n",
      "  File \"C:\\ProgramData\\anaconda3\\envs\\virtualworkspace-microserver\\lib\\site-packages\\anyio\\_backends\\_asyncio.py\", line 937, in run_sync_in_worker_thread\n",
      "    return await future\n",
      "  File \"C:\\ProgramData\\anaconda3\\envs\\virtualworkspace-microserver\\lib\\site-packages\\anyio\\_backends\\_asyncio.py\", line 867, in run\n",
      "    result = context.run(func, *args)\n",
      "  File \"C:\\Users\\wesle\\AppData\\Roaming\\Python\\Python39\\site-packages\\gradio\\utils.py\", line 703, in wrapper\n",
      "    response = f(*args, **kwargs)\n",
      "  File \"C:\\Users\\wesle\\AppData\\Local\\Temp\\ipykernel_95108\\2709658669.py\", line 9, in compare_image_text\n",
      "    image.save(buffer, format=\"PNG\")\n",
      "AttributeError: 'numpy.ndarray' object has no attribute 'save'\n"
     ]
    }
   ],
   "source": [
    "import gradio as gr\n",
    "\n",
    "def compare_image_text(image, text):\n",
    "    import requests\n",
    "    from PIL import Image\n",
    "    import io\n",
    "\n",
    "    buffer = io.BytesIO()\n",
    "    image.save(buffer, format=\"PNG\")\n",
    "    buffer.seek(0)\n",
    "\n",
    "    image_url = \"your_image_upload_service_url\"  # Replace with a service to upload images and return their URL\n",
    "    response = requests.post(image_url, files={\"image\": buffer})\n",
    "\n",
    "    if response.status_code == 200:\n",
    "        image_url = response.json()[\"url\"]\n",
    "        response = requests.post(\"http://127.0.0.1:8400/compare\", json={\"image_url\": image_url, \"text\": text})\n",
    "        if response.status_code == 200:\n",
    "            comparison_score = response.json()[\"comparison_score\"]\n",
    "            return {\"Comparison Score\": comparison_score}\n",
    "        else:\n",
    "            return {\"Comparison Score\": \"Error\"}\n",
    "    else:\n",
    "        return {\"Comparison Score\": \"Error\"}\n",
    "\n",
    "iface = gr.Interface(fn=compare_image_text, inputs=[\"image\", \"text\"], outputs=\"text\", title=\"CLIP Image-Text Comparison\")\n",
    "iface.launch()\n"
   ]
  },
  {
   "cell_type": "code",
   "execution_count": null,
   "id": "1d404b76-239f-471a-a362-a1a4e0c75332",
   "metadata": {
    "jupyter": {
     "source_hidden": true
    }
   },
   "outputs": [],
   "source": []
  }
 ],
 "metadata": {
  "kernelspec": {
   "display_name": "Python 3 (ipykernel)",
   "language": "python",
   "name": "python3"
  },
  "language_info": {
   "codemirror_mode": {
    "name": "ipython",
    "version": 3
   },
   "file_extension": ".py",
   "mimetype": "text/x-python",
   "name": "python",
   "nbconvert_exporter": "python",
   "pygments_lexer": "ipython3",
   "version": "3.9.16"
  },
  "widgets": {
   "application/vnd.jupyter.widget-state+json": {
    "state": {},
    "version_major": 2,
    "version_minor": 0
   }
  }
 },
 "nbformat": 4,
 "nbformat_minor": 5
}
