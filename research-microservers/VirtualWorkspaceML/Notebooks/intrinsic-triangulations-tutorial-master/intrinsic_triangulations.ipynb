{
 "cells": [
  {
   "cell_type": "markdown",
   "id": "d183ad5f-a5aa-4d05-99a5-25410e76f26e",
   "metadata": {},
   "source": [
    "# Geometry Processing"
   ]
  },
  {
   "cell_type": "markdown",
   "id": "57d66aa6-9eed-40e7-905d-afabed9fa16a",
   "metadata": {},
   "source": [
    "## Intrinsic Triangulation"
   ]
  },
  {
   "cell_type": "code",
   "execution_count": null,
   "id": "fee3028e-59ca-48d0-a58c-32cd3636bd83",
   "metadata": {
    "jupyter": {
     "source_hidden": true
    }
   },
   "outputs": [],
   "source": [
    "import numpy as np"
   ]
  },
  {
   "cell_type": "markdown",
   "id": "eccf8a0b-215f-44d3-be9a-766fb17bd734",
   "metadata": {},
   "source": [
    "#### Mesh management and traversal helpers"
   ]
  },
  {
   "cell_type": "code",
   "execution_count": null,
   "id": "1ab89a06-2fd4-482a-9829-a5b0c5d832ff",
   "metadata": {
    "jupyter": {
     "source_hidden": true
    }
   },
   "outputs": [],
   "source": [
    "def next_side(fs):\n",
    "    \"\"\"\n",
    "    For a given side s of a triangle, returns the next side t. (This method serves mainly to make code more readable.)\n",
    "\n",
    "    :param fs: A face side (f,s)\n",
    "    :returns: The next face side in the same triangle (f, sn)\n",
    "    \"\"\"\n",
    "    return (fs[0], (fs[1]+1)%3)"
   ]
  },
  {
   "cell_type": "code",
   "execution_count": null,
   "id": "8047a7df-d3af-483f-b84d-b71b0f4caf83",
   "metadata": {
    "tags": []
   },
   "outputs": [],
   "source": [
    "def other(G, fs):\n",
    "    \"\"\"\n",
    "    For a given face-side fs, returns the neighboring face-side in some other triangle.\n",
    "\n",
    "    :param G: |F|x3x2 gluing map G,\n",
    "    :param fs: a face-side (f,s)\n",
    "    :returns: The neighboring face-side (f_opp,s_opp)\n",
    "    \"\"\"\n",
    "    return tuple(G[fs])"
   ]
  },
  {
   "cell_type": "code",
   "execution_count": null,
   "id": "a9c22c08-7a0b-4f73-8b89-5972baf84b0b",
   "metadata": {
    "jupyter": {
     "source_hidden": true
    }
   },
   "outputs": [],
   "source": [
    "def n_faces(F):\n",
    "    \"\"\"\n",
    "    Return the number of faces in the triangulation.\n",
    "\n",
    "    :param F: |F|x3 array of face-vertex indices\n",
    "    :returns: |F|\n",
    "    \"\"\"\n",
    "    return F.shape[0]"
   ]
  },
  {
   "cell_type": "code",
   "execution_count": null,
   "id": "06d5871d-232f-470e-9e4b-a8efaf01805c",
   "metadata": {
    "jupyter": {
     "source_hidden": true
    }
   },
   "outputs": [],
   "source": [
    "def n_verts(F):\n",
    "    \"\"\"\n",
    "    Return the number of vertices in the triangulation.\n",
    "\n",
    "    Note that for simplicity this function recovers the number of vertices from\n",
    "    the face listing only. As a consequence it is _not_ constant-time, and\n",
    "    should not be called in a tight loop.\n",
    "\n",
    "    :param F: |F|x3 array of face-vertex indices\n",
    "    :returns: |F|\n",
    "    \"\"\"\n",
    "    return np.amax(F)+1"
   ]
  },
  {
   "cell_type": "markdown",
   "id": "4543468e-7aff-44ff-9c02-478c790bb1eb",
   "metadata": {
    "jp-MarkdownHeadingCollapsed": true
   },
   "source": [
    "#### Geometric subroutines"
   ]
  },
  {
   "cell_type": "code",
   "execution_count": null,
   "id": "425b1844-16cd-43bd-b11f-8ebe17432c27",
   "metadata": {
    "jupyter": {
     "source_hidden": true
    }
   },
   "outputs": [],
   "source": [
    "def face_area(l, f):\n",
    "    \"\"\"\n",
    "    Computes the area of the face f from edge lengths\n",
    "\n",
    "    :param l: |F|x3 array of face-side edge lengths\n",
    "    :param f: An integer index specifying the face\n",
    "    :returns: The area of the face.\n",
    "    \"\"\"\n",
    "    # Gather edge lengths\n",
    "    l_a = l[f, 0]\n",
    "    l_b = l[f, 1]\n",
    "    l_c = l[f, 2]\n",
    "\n",
    "    # Heron's rule\n",
    "    s = (l_a + l_b + l_c) / 2\n",
    "    d = s * (s - l_a) * (s - l_b) * (s - l_c)\n",
    "    return np.sqrt(d)\n"
   ]
  },
  {
   "cell_type": "code",
   "execution_count": null,
   "id": "b9624c8a-17b1-4711-a778-e554e6202cf7",
   "metadata": {
    "jupyter": {
     "source_hidden": true
    }
   },
   "outputs": [],
   "source": [
    "def surface_area(F,l):\n",
    "    \"\"\"\n",
    "    Compute the surface area of a triangulation.\n",
    "\n",
    "    :param F: A |F|x3 vertex-face adjacency list F\n",
    "    :param l: F |F|x3 edge-lengths array, giving the length of each face-side\n",
    "    :returns: The surface area\n",
    "    \"\"\"\n",
    "    area_tot = 0.\n",
    "    for f in range(n_faces(F)):\n",
    "        area_tot += face_area(l,f)\n",
    "\n",
    "    return area_tot"
   ]
  },
  {
   "cell_type": "code",
   "execution_count": null,
   "id": "0dae46ac-1894-4c01-b08c-7ad0c985c7ed",
   "metadata": {
    "jupyter": {
     "source_hidden": true
    }
   },
   "outputs": [],
   "source": [
    "def opposite_corner_angle(l, fs):\n",
    "    \"\"\"\n",
    "    Computes triangle corner angle opposite the face-side fs.\n",
    "\n",
    "    :param l: A |F|x3 array of face-side edge lengths\n",
    "    :param fs: An face-side (f,s)\n",
    "    :returns: The corner angle, in radians\n",
    "    \"\"\"\n",
    "    # Gather edge lengths\n",
    "    l_a = l[fs]\n",
    "    l_b = l[next_side(fs)]\n",
    "    l_c = l[next_side(next_side(fs))]\n",
    "\n",
    "    # Law of cosines (inverse)\n",
    "    d = (l_b**2 + l_c**2 - l_a**2) / (2*l_b*l_c);\n",
    "    return np.arccos(d)"
   ]
  },
  {
   "cell_type": "code",
   "execution_count": null,
   "id": "99d47685-51d7-4af7-adef-71db9d862d69",
   "metadata": {
    "jupyter": {
     "source_hidden": true
    }
   },
   "outputs": [],
   "source": [
    "def diagonal_length(G, l, fs):\n",
    "    \"\"\"\n",
    "    Computes the length of the opposite diagonal of the diamond formed by the\n",
    "    triangle containing fs, and the neighboring triangle adjacent to fs.\n",
    "\n",
    "    This is the new edge length needed when flipping the edge fs.\n",
    "\n",
    "    :param G: |F|x3x2 gluing map\n",
    "    :param l: |F|x3 array of face-side edge lengths\n",
    "    :param fs: A face-side (f,s)\n",
    "    :returns: The diagonal length\n",
    "    \"\"\"\n",
    "    # Gather lengths and angles\n",
    "    fs_opp = other(G, fs)\n",
    "    u = l[next_side(next_side(fs))]\n",
    "    v = l[next_side(fs_opp)]\n",
    "    theta_A = opposite_corner_angle(l, next_side(fs))\n",
    "    theta_B = opposite_corner_angle(l, next_side(next_side((fs_opp))))\n",
    "\n",
    "    # Law of cosines\n",
    "    d = u**2 + v**2 - 2 * u * v * np.cos(theta_A + theta_B)\n",
    "    return np.sqrt(d)"
   ]
  },
  {
   "cell_type": "code",
   "execution_count": null,
   "id": "e01e0c50-6cd2-4497-a554-3b22f32a0eb2",
   "metadata": {
    "jupyter": {
     "source_hidden": true
    }
   },
   "outputs": [],
   "source": [
    "def is_delaunay(G, l, fs):\n",
    "    \"\"\"\n",
    "    Test if the edge given by face-side fs satisfies the intrinsic Delaunay property.\n",
    "\n",
    "    :param G: |F|x3x2 gluing map G,\n",
    "    :param l: |F|x3 array of face-side edge lengths\n",
    "    :param fs: A face-side (f,s)\n",
    "    :returns: True if the edge is Delaunay\n",
    "    \"\"\"\n",
    "\n",
    "    fs_opp = other(G, fs)\n",
    "\n",
    "    theta_A = opposite_corner_angle(l, fs)\n",
    "    theta_B = opposite_corner_angle(l, fs_opp)\n",
    "\n",
    "    # Test against PI - eps to conservatively pass in cases where theta_A\n",
    "    # + theta_B \\approx PI. This ensures the algorithm terminates even in the\n",
    "    # case of a co-circular diamond, in the presence of floating-point errors.\n",
    "    EPS = 1e-5\n",
    "    return theta_A + theta_B <= np.pi + EPS\n"
   ]
  },
  {
   "cell_type": "markdown",
   "id": "a58c433f-83ca-42ed-8d8a-1130da789a60",
   "metadata": {
    "jp-MarkdownHeadingCollapsed": true
   },
   "source": [
    "#### Construct initial data"
   ]
  },
  {
   "cell_type": "code",
   "execution_count": null,
   "id": "a91848c4-d615-40da-bb18-ba22aec48b64",
   "metadata": {
    "jupyter": {
     "source_hidden": true
    }
   },
   "outputs": [],
   "source": [
    "def build_edge_lengths(V,F):\n",
    "    \"\"\"\n",
    "    Compute edge lengths for the triangulation.\n",
    "\n",
    "    Note that we store a length per face-side, which means that each edge\n",
    "    length appears twice. This is just to make our code simpler.\n",
    "\n",
    "    :param V: |V|x3 array of vertex positions\n",
    "    :param F: |F|x3 array of face-vertex indices\n",
    "    :returns: The |F|x3 array of face-side lengths\n",
    "    \"\"\"\n",
    "\n",
    "    # Allocate an empty Fx3 array to fill\n",
    "    l = np.empty((n_faces(F),3))\n",
    "\n",
    "    for f in range(n_faces(F)):    # iterate over triangles\n",
    "        for s in range(3):         # iterate over the three sides\n",
    "\n",
    "            # get the two endpoints (i,j) of this side\n",
    "            i = F[f,s]\n",
    "            j = F[next_side((f,s))]\n",
    "\n",
    "            # measure the length of the side\n",
    "            length = np.linalg.norm(V[j] - V[i])\n",
    "\n",
    "            l[f,s] = length\n",
    "\n",
    "    return l"
   ]
  },
  {
   "cell_type": "code",
   "execution_count": null,
   "id": "a3bcfbeb-0111-44bb-ad5a-0bb395e3f7ba",
   "metadata": {
    "jupyter": {
     "source_hidden": true
    }
   },
   "outputs": [],
   "source": [
    "def sort_rows(A):\n",
    "    \"\"\"\n",
    "    Sorts rows lexicographically, i.e., comparing the first column first, then\n",
    "    using subsequent columns to break ties.\n",
    "\n",
    "    :param A: A 2D array\n",
    "    :returns: A sorted array with the same dimensions as A\n",
    "    \"\"\"\n",
    "    return A[np.lexsort(np.rot90(A))]\n"
   ]
  },
  {
   "cell_type": "code",
   "execution_count": null,
   "id": "42ff434d-a9b8-426e-ba68-046cd61113f3",
   "metadata": {
    "jupyter": {
     "source_hidden": true
    }
   },
   "outputs": [],
   "source": [
    "def glue_together(G, fs1, fs2):\n",
    "    \"\"\"\n",
    "    Glues together the two specified face sides.  Using this routine (rather\n",
    "    than manipulating G directly) just helps to ensure that a basic invariant\n",
    "    of G is always preserved: if a is glued to b, then b is glued to a.\n",
    "\n",
    "    The gluing map G is updated in-place.\n",
    "\n",
    "    :param G: |F|x3x2 gluing map\n",
    "    :param fs1: a face-side (f1,s1)\n",
    "    :param fs2: another face-side (f2,s2)\n",
    "    \"\"\"\n",
    "    G[fs1] = fs2\n",
    "    G[fs2] = fs1"
   ]
  },
  {
   "cell_type": "code",
   "execution_count": null,
   "id": "31acda4a-a079-421a-abe4-d5905bf88851",
   "metadata": {
    "jupyter": {
     "source_hidden": true
    }
   },
   "outputs": [],
   "source": [
    "def build_gluing_map(F):\n",
    "    \"\"\"\n",
    "    Builds the gluing map for a triangle mesh.\n",
    "\n",
    "    :param F: |F|x3 vertex-face adjacency list F describing a manifold, oriented triangle mesh without boundary.\n",
    "    :returns: |F|x3x2 gluing map G, which for each side of each face stores the\n",
    "    face-side it is glued to.  In particular, G[f,s] is a pair (f',s') such\n",
    "    that (f,s) and (f',s') are glued together.\n",
    "    \"\"\"\n",
    "    \n",
    "    # In order to construct this array, for each side of a triangle, we need to\n",
    "    # find the neighboring side in some other triangle. There are many ways that\n",
    "    # this lookup could be accomplished. Here, we use an array-based strategy\n",
    "    # which constructs an `Sx4` array (where `S` is the number of face-sides),\n",
    "    # where each row holds the vertex indices of a face-side, as well as the face\n",
    "    # it comes from and which side it is. We then sort the rows of this array\n",
    "    # lexicographically, which puts adjacent face-sides next to each other in the\n",
    "    # sorted array. Finally, we walk down the array and populate the gluing map\n",
    "    # with adjacent face-side entries.\n",
    "\n",
    "\n",
    "    # Build a temporary list S of all face-sides, given by tuples (i,j,f,s),\n",
    "    # where (i,j) are the vertex indices of side s of face f in sorted order\n",
    "    # (i<j).\n",
    "    n_sides = 3*n_faces(F)\n",
    "    S = np.empty([n_sides,4], dtype=np.int64)\n",
    "\n",
    "    for f in range(n_faces(F)):    # iterate over triangles\n",
    "        for s in range(3):         # iterate over the three sides\n",
    "\n",
    "            # get the two endpoints (i,j) of this side, in sorted order\n",
    "            i = F[f,s]\n",
    "            j = F[next_side((f,s))]\n",
    "            S[f*3+s] = (min(i,j),max(i,j),f,s)\n",
    "\n",
    "    # Sort the list row-wise (so i-j pairs are adjacent)\n",
    "    S = sort_rows(S)\n",
    "\n",
    "    # Build the |F|x3 gluing map G, by linking together pairs of sides with the same vertex indices.\n",
    "    G = np.empty([n_faces(F),3,2], dtype=np.int64);\n",
    "    for p in range(0,n_sides,2):\n",
    "        \n",
    "        # extra sanity check to fail nicely if a mesh with boundary \n",
    "        # or nonmanifold mesh is given as input\n",
    "        if S[p+0,0] != S[p+1,0] or S[p+0,1] != S[p+1,1]:\n",
    "            raise ValueError(\"Problem building glue map. Is input closed & manifold?\")\n",
    "\n",
    "        fs0 = tuple(S[p+0,2:4])\n",
    "        fs1 = tuple(S[p+1,2:4])\n",
    "        glue_together(G, fs0, fs1)\n",
    "\n",
    "    # A sanity-check test\n",
    "    validate_gluing_map(G)\n",
    "\n",
    "    return G"
   ]
  },
  {
   "cell_type": "code",
   "execution_count": null,
   "id": "ddd5e782-79b1-423c-8a89-062ecdee4947",
   "metadata": {
    "jupyter": {
     "source_hidden": true
    }
   },
   "outputs": [],
   "source": [
    "def validate_gluing_map(G):\n",
    "    \"\"\"\n",
    "    Performs sanity checks on the connectivity of the gluing map. Throws an\n",
    "    exception if anything is wrong.\n",
    "\n",
    "    :param G: |F|x3x2 gluing map G\n",
    "    \"\"\"\n",
    "\n",
    "    for f in range(n_faces(G)):\n",
    "        for s in range(3):\n",
    "\n",
    "            fs = (f,s)\n",
    "            fs_other = other(G, fs)\n",
    "\n",
    "            if fs == fs_other:\n",
    "                raise ValueError(\"gluing map points face-side to itself {}\".format(fs))\n",
    "\n",
    "            if fs != other(G, fs_other):\n",
    "                raise ValueError(\"gluing map is not involution (applying it twice does not return the original face-side) {} -- {} -- {}\".format(fs, fs_other, other(G, fs_other)))"
   ]
  },
  {
   "cell_type": "markdown",
   "id": "edc3d98e-0813-4a06-a87a-18758fd3f291",
   "metadata": {
    "jp-MarkdownHeadingCollapsed": true
   },
   "source": [
    "#### Intrinsic Delaunay and edge flipping"
   ]
  },
  {
   "cell_type": "code",
   "execution_count": null,
   "id": "369f2ee1-2942-4084-a1af-6988dd72f122",
   "metadata": {
    "jupyter": {
     "source_hidden": true
    }
   },
   "outputs": [],
   "source": [
    "def flip_edge(F, G, l, s0):\n",
    "    \"\"\"\n",
    "    Performs an intrinsic edge flip on the edge given by face-side s0. The\n",
    "    arrays F, G, and l are updated in-place.\n",
    "\n",
    "    This routine _does not_ check if the edge is flippable. Conveniently, in\n",
    "    the particular case of flipping to Delaunay, non-Delaunay edges can always\n",
    "    be flipped.\n",
    "\n",
    "    :param F: |F|x3 vertex-face adjacency list F\n",
    "    :param G: |F|x3x2 gluing map G\n",
    "    :param l: |F|x3 edge-lengths array, giving the length of each face-side\n",
    "    :param s0: A face-side of the edge that we want to flip\n",
    "\n",
    "    :returns: The new identity of the side fs_a\n",
    "    \"\"\"\n",
    "\n",
    "    # Get the neighboring face-side\n",
    "    s1 = other(G, s0)\n",
    "\n",
    "    # Get the 3 sides of each face\n",
    "    s2, s3 = next_side(s0), next_side(next_side(s0)) \n",
    "    s4, s5 = next_side(s1), next_side(next_side(s1))\n",
    "\n",
    "    # Get the sides glued to each edge of the diamond\n",
    "    s6, s7, s8, s9 = other(G,s2), other(G,s3), other(G,s4), other(G,s5)\n",
    "\n",
    "    # Get vertex indices for the vertices of the diamond\n",
    "    v0, v1, v2, v3 = F[s0], F[s2], F[s3], F[s5]\n",
    "\n",
    "    # Get the two faces from our face-sides\n",
    "    f0, f1 = s0[0], s1[0]\n",
    "\n",
    "    # Get the original lengths of the outside edges of the diamond\n",
    "    l2, l3, l4, l5 = l[s2], l[s3], l[s4], l[s5]\n",
    "    \n",
    "    # Compute the length of the new edge\n",
    "    new_length = diagonal_length(G, l, s0)\n",
    "    \n",
    "    # Update the adjacency list F\n",
    "    F[f0] = (v3, v2, v0)\n",
    "    F[f1] = (v2, v3, v1)\n",
    "\n",
    "    # Re-label elements.\n",
    "    # Usually this does nothing, but in a Delta-complex one of the neighbors of\n",
    "    # these faces might be one of the faces themselves! In that case, this\n",
    "    # re-labels the neighbors according to the updated labels after the edge flip.\n",
    "    def relabel(s):\n",
    "        # NOTE: these variables (s2, f0, etc) are automatically accessed from the outer scope\n",
    "        # in Python; in other languages we could add them as additional arguments.\n",
    "        if s == s2 : return (f1, 2)\n",
    "        if s == s3 : return (f0, 1)\n",
    "        if s == s4 : return (f0, 2)\n",
    "        if s == s5 : return (f1, 1)\n",
    "        return s\n",
    "    s6, s7, s8, s9 = relabel(s6), relabel(s7), relabel(s8), relabel(s9)\n",
    "\n",
    "    # Update the gluing map G\n",
    "    glue_together(G, (f0, 0), (f1, 0))\n",
    "    glue_together(G, (f0, 1), s7)\n",
    "    glue_together(G, (f0, 2), s8)\n",
    "    glue_together(G, (f1, 1), s9)\n",
    "    glue_together(G, (f1, 2), s6)\n",
    "\n",
    "    # Update the edge lengths\n",
    "    # Note that even the edges we didn't flip have been re-labeled, so we need to\n",
    "    # update those too.\n",
    "    l[f0] = (new_length, l3, l4)\n",
    "    l[f1] = (new_length, l5, l2)\n",
    "\n",
    "    return f0, 0"
   ]
  },
  {
   "cell_type": "code",
   "execution_count": null,
   "id": "04ca1ba4-7600-4ecf-b1f1-ae7a942cf7d9",
   "metadata": {
    "jupyter": {
     "source_hidden": true
    }
   },
   "outputs": [],
   "source": [
    "def flip_to_delaunay(F, G, l):\n",
    "    \"\"\"\n",
    "    Flip edges in the triangulation until it satisifes the intrinsic Delaunay criterion.\n",
    "\n",
    "    For simplicity, we will implement this algorithm in terms of face-sides, checking if\n",
    "    each face-side satisfies the criterion. Technically, this means we are testing each\n",
    "    edge twice, which is unecessary, but makes our implementation simpler.\n",
    "\n",
    "    The arrays F,G,l are modified in-place.\n",
    "\n",
    "    :param F: |F|x3 vertex-face adjacency list F\n",
    "    :param G: |F|x3x2 gluing map G\n",
    "    :param l: |F|x3 edge-lengths array, giving the length of each face-side\n",
    "    \"\"\"\n",
    "\n",
    "    from collections import deque\n",
    "\n",
    "    n_flips = 0\n",
    "\n",
    "    # A queue of face-sides to test for the Delaunay criterion\n",
    "    to_process = deque()\n",
    "\n",
    "    # NOTE: there some subtlety as to why this implementation is correct.\n",
    "    # Whenever we flip an edge, the face-sides of the two triangles involved in\n",
    "    # the flip get re-labelled. This means that the face-side entries in\n",
    "    # to_process will become stale, and potentially point to a different\n",
    "    # face-side than was intended. However, this implementation is still correct\n",
    "    # regardless, because all of the re-labelled face-sides will immediately get\n",
    "    # re-added to the queue.\n",
    "\n",
    "    # NOTE: This implementation may add many repeated entries of the same\n",
    "    # face-side in to the queue, which is wasteful. For performance, another\n",
    "    # array can be added to keep track of which edges are already in the queue,\n",
    "    # and avoid adding them multiple times.\n",
    "\n",
    "    # Initially add all face-sides for processing\n",
    "    for f in range(n_faces(F)):    # iterate over triangles\n",
    "        for s in range(3):      # iterate over the three sides\n",
    "            to_process.append((f, s))\n",
    "\n",
    "\n",
    "    n_flips = 0\n",
    "    while to_process: # while the queue is not empty\n",
    "\n",
    "        # Get the next face-side in the queue\n",
    "        fs = to_process.pop()\n",
    "\n",
    "        # Check if it satisfies the Delaunay criterion\n",
    "        if not is_delaunay(G, l, fs):\n",
    "\n",
    "            # Flip the edge\n",
    "            # Note that we need to update the current face-side fs, \n",
    "            # because it is re-labelled during the flip.\n",
    "            fs = flip_edge(F, G, l, fs)\n",
    "            n_flips += 1\n",
    "\n",
    "            # Enqueue neighbors for processing, as they may have become non-Delaunay\n",
    "            neighbors = [\n",
    "                next_side(fs),\n",
    "                next_side(next_side(fs)),\n",
    "                next_side(other(G, fs)),\n",
    "                next_side(next_side(other(G, fs)))\n",
    "            ]\n",
    "            for n in neighbors:\n",
    "                to_process.append(n)\n",
    "\n",
    "    print(\"performed {} edge flips to Delaunay\".format(n_flips))"
   ]
  },
  {
   "cell_type": "code",
   "execution_count": null,
   "id": "64c58b17-9f87-4120-bdce-c22b483f081a",
   "metadata": {
    "jupyter": {
     "source_hidden": true
    }
   },
   "outputs": [],
   "source": [
    "def check_delaunay(F,G,l):\n",
    "    \"\"\"\n",
    "    Check if a triangulation satisifies the intrinsic Delaunay property.\n",
    "\n",
    "    :param F: |F|x3 vertex-face adjacency list F\n",
    "    :param G: |F|x3x2 gluing map G\n",
    "    :param l: |F|x3 edge-lengths array, giving the length of each face-side\n",
    "    :returns: True if the triangulation is intrinsic Delaunay.\n",
    "    \"\"\"\n",
    "    for f in range(n_faces(F)):\n",
    "        for s in range(3):\n",
    "            if not is_delaunay(G,l,(f,s)):\n",
    "                return False\n",
    "    return True"
   ]
  },
  {
   "cell_type": "code",
   "execution_count": null,
   "id": "1c697bf9-b7bb-4f0f-833b-26c1bb72389b",
   "metadata": {
    "jupyter": {
     "source_hidden": true
    }
   },
   "outputs": [],
   "source": [
    "def print_info(F,G,l):\n",
    "    \"\"\"\n",
    "    Print some info about a mesh\n",
    "\n",
    "    :param F: |F|x3 vertex-face adjacency list F\n",
    "    :param G: |F|x3x2 gluing map G\n",
    "    :param l: |F|x3 edge-lengths array, giving the length of each face-side\n",
    "    \"\"\"\n",
    "\n",
    "    print(\"  n_verts = {}\".format(n_verts(F)))\n",
    "    print(\"  n_faces = {}\".format(n_faces(F)))\n",
    "    print(\"  surface area = {}\".format(surface_area(F,l)))\n",
    "    print(\"  is Delaunay = {}\".format(check_delaunay(F,G,l)))"
   ]
  },
  {
   "cell_type": "markdown",
   "id": "63739a45-8636-4478-a2f7-8cf7e9801452",
   "metadata": {
    "jp-MarkdownHeadingCollapsed": true
   },
   "source": [
    "#### Run the code: flip to intrinsic Delaunay"
   ]
  },
  {
   "cell_type": "code",
   "execution_count": null,
   "id": "0f3b5507-fc2f-4a7d-a10a-12c1a8893043",
   "metadata": {
    "jupyter": {
     "source_hidden": true
    }
   },
   "outputs": [],
   "source": [
    "# Some test data: a simple shape with 5 vertices\n",
    "V = np.array([ [0, 5., 0], [0, 1, -3.], [-4., 0, 0], [0, 1, 3.], [4., 0, 0] ])\n",
    "F = np.array([ [0, 1, 2], [0, 2, 3], [0, 3, 4], [0, 4, 1], [1, 4, 2], [2, 4, 3] ])\n",
    "source_vert = 0\n",
    "\n",
    "# Use these lines to load any triangle mesh you would like.\n",
    "# .obj, .ply, and .off formats are supported\n",
    "# (install with python -m pip install potpourri3d)\n",
    "import potpourri3d as pp3d\n",
    "\n",
    "# uncomment these lines to run on the meshes included with the tutorial\n",
    "# (note that they additionally set a good source vertex for the later example)\n",
    "# (V, F), source_vert = pp3d.read_mesh(\"example_data/terrain8k.obj\"), 2894\n",
    "# (V, F), source_vert = pp3d.read_mesh(\"example_data/pegasus.obj\"), 1669\n",
    "# (V, F), source_vert = pp3d.read_mesh(\"example_data/rocketship.ply\"), 26403\n",
    "\n",
    "# use this line to run on your own mesh of interest\n",
    "# V, F = pp3d.read_mesh(\"path/to/your/mesh.obj\")\n",
    "\n",
    "# initialize the glue map and edge lengths arrays from the input data\n",
    "G = build_gluing_map(F)\n",
    "l = build_edge_lengths(V,F)\n",
    "\n",
    "print(\"Initial mesh:\")\n",
    "print_info(F,G,l)\n",
    "\n",
    "# make a copy (so we preserve the original mesh), and flip to Delaunay\n",
    "F_delaunay= F.copy()\n",
    "G_delaunay = G.copy()\n",
    "l_delaunay = l.copy()\n",
    "flip_to_delaunay(F_delaunay, G_delaunay, l_delaunay)\n",
    "\n",
    "print(\"After Delaunay flips:\")\n",
    "print_info(F_delaunay,G_delaunay,l_delaunay)"
   ]
  },
  {
   "cell_type": "markdown",
   "id": "694cb090-f250-41ef-bd5d-a7a9961cd3e3",
   "metadata": {},
   "source": [
    "#### Example application: Heat Method for Distance"
   ]
  },
  {
   "cell_type": "code",
   "execution_count": null,
   "id": "e16421ac-b68a-4c9f-819d-e7b2bfeac28c",
   "metadata": {
    "jupyter": {
     "source_hidden": true
    }
   },
   "outputs": [],
   "source": [
    "# This section contains a simple self-contained implementation of the Heat\n",
    "# Method, a PDE-based method to compute geodesic distance along a surface from\n",
    "# a specified source point.\n",
    "\n",
    "# For reference, see \"The Heat Method for Distance Computation\", by Crane,\n",
    "# Weischedel, Wardetzky (2017).\n",
    "\n",
    "# This algorithm makes use of the Laplace matrix, and we will see that applying\n",
    "# the Delaunay edge flipping routine from above automatically improves results on\n",
    "# low-quality triangulations.\n",
    "\n",
    "# we will use Scipy for sparse matrix operations\n",
    "import scipy\n",
    "import scipy.sparse\n",
    "import scipy.sparse.linalg"
   ]
  },
  {
   "cell_type": "code",
   "execution_count": null,
   "id": "9d027d93-6d2b-4591-a904-7eeb341e3598",
   "metadata": {},
   "outputs": [],
   "source": [
    "def build_cotan_laplacian(F,l):\n",
    "    \"\"\"\n",
    "    Build the cotan-Laplace matrix for a triangulation.\n",
    "\n",
    "    :param F: |F|x3 vertex-face adjacency list F\n",
    "    :param l: |F|x3 edge-lengths array, giving the length of each face-side\n",
    "    :returns: The Laplace matrix, as a sparse, |V|x|V| real scipy matrix \n",
    "    \"\"\"\n",
    "\n",
    "    # Initialize empty sparse matrix\n",
    "    N = n_verts(F)\n",
    "    L = scipy.sparse.lil_matrix((N,N))\n",
    "\n",
    "    # Construct the matrix by summing contributions from each triangle\n",
    "    for f in range(n_faces(F)):\n",
    "        for s in range(3):\n",
    "            i = F[f,s]\n",
    "            j = F[f,(s+1)%3]\n",
    "\n",
    "            opp_theta = opposite_corner_angle(l, (f,s))\n",
    "            opp_cotan =  1. / np.tan(opp_theta)\n",
    "            cotan_weight = 0.5 * opp_cotan\n",
    "\n",
    "            L[i,j] -= cotan_weight\n",
    "            L[j,i] -= cotan_weight\n",
    "            L[i,i] += cotan_weight\n",
    "            L[j,j] += cotan_weight\n",
    "\n",
    "    return L.tocsr() # convert to a compressed sparse row matrix"
   ]
  },
  {
   "cell_type": "code",
   "execution_count": null,
   "id": "a4f73e80-502f-4c42-94bd-aa8175e29485",
   "metadata": {
    "jupyter": {
     "source_hidden": true
    }
   },
   "outputs": [],
   "source": [
    "def build_lumped_mass(F,l):\n",
    "    \"\"\"\n",
    "    Build the lumped mass matrix for a triangulation, which associates an area with each vertex.\n",
    "\n",
    "    :param F: |F|x3 vertex-face adjacency list F\n",
    "    :param l: |F|x3 edge-lengths array, giving the length of each face-side\n",
    "    :returns: The mass matrix, as a sparse, |V|x|V| real scipy matrix (which\n",
    "    happens to be a diagonal matrix)\n",
    "    \"\"\"\n",
    "\n",
    "    # Initialize empty sparse matrix\n",
    "    N = n_verts(F)\n",
    "    M = scipy.sparse.lil_matrix((N,N))\n",
    "\n",
    "    # Construct the matrix by summing contributions from each triangle\n",
    "    for f in range(n_faces(F)):\n",
    "        area = face_area(l,f)\n",
    "        for s in range(3):\n",
    "            i = F[f,s]\n",
    "            M[i,i] += area / 3.\n",
    "\n",
    "    return M.tocsr() # convert to a compressed sparse row matrix"
   ]
  },
  {
   "cell_type": "code",
   "execution_count": null,
   "id": "eda3ff6c-1572-4700-944e-596660c70524",
   "metadata": {
    "jupyter": {
     "source_hidden": true
    }
   },
   "outputs": [],
   "source": [
    "def edge_in_face_basis(l, fs):\n",
    "    \"\"\"\n",
    "    We associate a 2D-coordinate system with each face in a triangulation.\n",
    "    Given a face-side, this routine returns the vector of the corresponding\n",
    "    edge in that face.\n",
    "\n",
    "    :param l: |F|x3 edge-lengths array, giving the length of each face-side\n",
    "    :returns: The edge vector, as little length-2 numpy array\n",
    "    \"\"\"\n",
    "\n",
    "    # Gather data about the triangle\n",
    "    f, s = fs\n",
    "    theta = opposite_corner_angle(l, (f,1))\n",
    "\n",
    "    # Construct local positions for each of the triangles vertices.\n",
    "    # Note that this operation is local to each triangle, and depends on on edge lengths,\n",
    "    # and thus can be applied to an intrinsic triangulation without issue.\n",
    "    local_vert_positions = np.array([\n",
    "                [ 0, 0 ],       # first vertex at origin\n",
    "                [ l[f,0], 0] ,  # second vertex along x-axis\n",
    "                [ np.cos(theta) * l[f,2], np.sin(theta) * l[f,2] ] # third vertex is nontrivial\n",
    "            ])\n",
    "\n",
    "    # The edge vector is the difference of vertex positions in the local frame\n",
    "    edge_vec = local_vert_positions[(s+1)%3] - local_vert_positions[s]\n",
    "    return edge_vec"
   ]
  },
  {
   "cell_type": "code",
   "execution_count": null,
   "id": "82a9aa3b-6b39-4fe9-b1ea-5e7c3eeb871a",
   "metadata": {
    "jupyter": {
     "source_hidden": true
    }
   },
   "outputs": [],
   "source": [
    "def evaluate_gradient_at_faces(F,l,x):\n",
    "    \"\"\"\n",
    "    Given a scalar function at vertices, compute its gradient in each face.\n",
    "    The gradients are defined in a tangent-coordinate system in each face as\n",
    "    specified by edge_in_face_basis().\n",
    "\n",
    "    :param F: |F|x3 vertex-face adjacency list F\n",
    "    :param l: |F|x3 edge-lengths array, giving the length of each face-side\n",
    "    :param x: A scalar function as a length-|V| numpy array, holding one value per vertex\n",
    "    :returns: |F|x2 array of gradient vectors per-face (defined in the local 2D basis for each face)\n",
    "    \"\"\"\n",
    "\n",
    "    grads = np.empty((n_faces(F),2))\n",
    "\n",
    "    # Evaluate gradients independently in each triangle\n",
    "    for f in range(n_faces(F)):\n",
    "\n",
    "        # This is an expression for the gradient of a piecewise-linear function in a triangle,\n",
    "        # from the triangle geometry and the function values at vertices.\n",
    "        face_grad = np.array([0.,0.])\n",
    "        for s in range(3):\n",
    "            i = F[f,s]\n",
    "            edge_vec = edge_in_face_basis(l, next_side((f,s)))\n",
    "            edge_vec_rot = np.array([-edge_vec[1], edge_vec[0]])\n",
    "            face_grad += x[i] * edge_vec_rot\n",
    "        area = face_area(l,f)\n",
    "        face_grad /= (2. * area)\n",
    "\n",
    "        grads[f] = face_grad\n",
    "\n",
    "    return grads"
   ]
  },
  {
   "cell_type": "code",
   "execution_count": null,
   "id": "559bf766-81cf-40ef-95d3-63af7dc462fb",
   "metadata": {
    "jupyter": {
     "source_hidden": true
    }
   },
   "outputs": [],
   "source": [
    "def evaluate_divergence_at_vertices(F,l,v):\n",
    "    \"\"\"\n",
    "    Given a vector field defined by a collection of gradient vectors at the\n",
    "    faces of a triangulation, evaluate the divergence of the vector field as\n",
    "    a scalar value at vertices.\n",
    "\n",
    "    :param F: |F|x3 vertex-face adjacency list F\n",
    "    :param l: |F|x3 edge-lengths array, giving the length of each face-side\n",
    "    :param v: |F|x2 array of vectors per-face (defined in the local 2D basis for each face)\n",
    "    :returns: The divergences as a length-|V| numpy array\n",
    "    \"\"\"\n",
    "\n",
    "    divs = np.zeros((n_verts(F)))\n",
    "\n",
    "    # Evaluate divergence as a summation over contributions from each face\n",
    "    for f in range(n_faces(F)):\n",
    "\n",
    "        grad_vec = v[f]\n",
    "\n",
    "        # This is the contribution of each triangle to the divergence at the \n",
    "        # adjacent vertices.\n",
    "        for s in range(3):\n",
    "            i = F[f,s]\n",
    "            j = F[f,(s+1)%3]\n",
    "\n",
    "            edge_vec = edge_in_face_basis(l, (f,s))\n",
    "            opp_theta = opposite_corner_angle(l, (f,s))\n",
    "            opp_cotan =  1. / np.tan(opp_theta)\n",
    "            cotan_weight = 0.5 * opp_cotan\n",
    "            div_contrib = cotan_weight * np.dot(edge_vec, grad_vec)\n",
    "\n",
    "            divs[i] += div_contrib\n",
    "            divs[j] -= div_contrib\n",
    "\n",
    "    return divs"
   ]
  },
  {
   "cell_type": "code",
   "execution_count": null,
   "id": "ea49c7a9-d603-4d74-8561-198ad17e1a33",
   "metadata": {
    "jupyter": {
     "source_hidden": true
    }
   },
   "outputs": [],
   "source": [
    "def heat_method_distance_from_vertex(F,l,source_vert):\n",
    "    \"\"\"\n",
    "    Use the Heat Method to compute geodesic distance along a surface from\n",
    "    a source vertex.\n",
    "\n",
    "    For reference, see \"The Heat Method for Distance Computation\", by Crane,\n",
    "    Weischedel, Wardetzky (2017).\n",
    "\n",
    "    The heat method uses the Laplace matrix as one of its main ingredients, so\n",
    "    if the triangulation is intrinsic Delaunay, accuracy will be improved.\n",
    "\n",
    "    :param F: |F|x3 vertex-face adjacency list F\n",
    "    :param l: |F|x3 edge-lengths array, giving the length of each face-side\n",
    "    :param source_vert: The index of a vertex to use as the source.\n",
    "    :returns: The distances from the source vertex, as a length-|V| numpy array\n",
    "    \"\"\"\n",
    "\n",
    "    # Build matrices\n",
    "    L = build_cotan_laplacian(F,l)\n",
    "    M = build_lumped_mass(F,l)\n",
    "\n",
    "    # Compute mean edge length h\n",
    "    mean_edge_length = np.mean(l)\n",
    "    short_time = mean_edge_length**2\n",
    "\n",
    "    # Build the heat operator\n",
    "    H = (M + short_time*L)\n",
    "\n",
    "    # Build the initial conditions\n",
    "    init_RHS = np.zeros(n_verts(F))\n",
    "    init_RHS[source_vert] = 1.\n",
    "\n",
    "    # Solve the linear system to evaluate heat flow\n",
    "    heat = scipy.sparse.linalg.spsolve(H, init_RHS)\n",
    "\n",
    "    # Compute gradients and normalize\n",
    "    grads = evaluate_gradient_at_faces(F, l, heat)\n",
    "    grads = grads / np.linalg.norm(grads, axis=1, keepdims=True) # normalize in each face\n",
    "\n",
    "    # Solve for the function which has those gradients\n",
    "    div = evaluate_divergence_at_vertices(F,l,grads)\n",
    "    dist = scipy.sparse.linalg.spsolve(L + scipy.sparse.eye(L.shape[0]) * 1e-6, div)\n",
    "\n",
    "    # Shift so the source has distance 0\n",
    "    dist -= dist[source_vert]\n",
    "\n",
    "    return dist"
   ]
  },
  {
   "cell_type": "markdown",
   "id": "3e64ab39-7b17-4b70-84ed-933937f7228b",
   "metadata": {},
   "source": [
    "#### Run the code: compute distance"
   ]
  },
  {
   "cell_type": "code",
   "execution_count": null,
   "id": "3d0d0ef4-e4a6-4f9d-ba5f-76067f1b0877",
   "metadata": {
    "jupyter": {
     "source_hidden": true
    }
   },
   "outputs": [],
   "source": [
    "# Remember: choose what mesh to run on in the in the flipping example above\n",
    "\n",
    "# Compute distance using the heat method, both before and after flipping\n",
    "print(\"computing distance on original triangulation...\")\n",
    "dists_before = heat_method_distance_from_vertex(F,l,source_vert)\n",
    "print(\"computing distance on Delaunay triangulation...\")\n",
    "dists_after = heat_method_distance_from_vertex(F_delaunay,l_delaunay,source_vert)\n",
    "\n",
    "# Visualize the geodesic distances\n",
    "# (click the 'enable' checkbox on the left sidebar to inspect the distances)\n",
    "print(\"Visualizing in Polyscope window\")\n",
    "import polyscope as ps\n",
    "ps.init()\n",
    "ps_mesh = ps.register_surface_mesh(\"test mesh\", V, F)\n",
    "ps_mesh.add_distance_quantity(\"distance on initial triangulation\", dists_before, enabled=True)\n",
    "ps_mesh.add_distance_quantity(\"distance after Delaunay flips\", dists_after)\n",
    "ps.show()"
   ]
  }
 ],
 "metadata": {
  "kernelspec": {
   "display_name": "Python 3 (ipykernel)",
   "language": "python",
   "name": "python3"
  },
  "language_info": {
   "codemirror_mode": {
    "name": "ipython",
    "version": 3
   },
   "file_extension": ".py",
   "mimetype": "text/x-python",
   "name": "python",
   "nbconvert_exporter": "python",
   "pygments_lexer": "ipython3",
   "version": "3.11.5"
  },
  "widgets": {
   "application/vnd.jupyter.widget-state+json": {
    "state": {},
    "version_major": 2,
    "version_minor": 0
   }
  }
 },
 "nbformat": 4,
 "nbformat_minor": 5
}
