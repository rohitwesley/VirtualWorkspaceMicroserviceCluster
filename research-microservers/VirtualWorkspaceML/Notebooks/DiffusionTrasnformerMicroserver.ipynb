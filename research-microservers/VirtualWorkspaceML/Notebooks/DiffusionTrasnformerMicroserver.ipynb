{
 "cells": [
  {
   "cell_type": "markdown",
   "id": "9da46986-7ab6-4812-a909-13b276bb5df5",
   "metadata": {},
   "source": [
    "# Virtual Image Diffusion Transformer Micro Server\n",
    "---\n"
   ]
  },
  {
   "cell_type": "markdown",
   "id": "ff0d295c-93cf-42c4-9f2a-3c9737b53024",
   "metadata": {},
   "source": [
    "##  Setup all lib and env:\n",
    "**Python Lib:**\n",
    ">* FastApi - *for client access* \n",
    ">* redis - *for base data*\n",
    ">* websockets - *for desktop control* \n",
    ">* aiortc - *for desktop streaming*\n",
    "\n",
    "```\n",
    "pip install fastapi\n",
    "pip install uvicorn\n",
    "pip install transformers\n",
    "pip install torch\n",
    "pip install redis\n",
    "pip install aioredis\n",
    "pip install python-socketio[client]\n",
    "pip install aiortc\n",
    "pip install av\n",
    "pip install aiohttp\n",
    "\n",
    "\n",
    "```"
   ]
  },
  {
   "cell_type": "code",
   "execution_count": 1,
   "id": "e7b42302-da78-43ea-aeee-476e38d532e5",
   "metadata": {
    "jupyter": {
     "source_hidden": true
    }
   },
   "outputs": [
    {
     "name": "stdout",
     "output_type": "stream",
     "text": [
      "fastapi: already installed\n",
      "uvicorn: already installed\n",
      "transformers: already installed\n",
      "torch: already installed\n",
      "redis: already installed\n",
      "aioredis: already installed\n",
      "python-socketio[client]: already installed\n",
      "aiortc: already installed\n",
      "av: already installed\n",
      "aiohttp: already installed\n"
     ]
    }
   ],
   "source": [
    "# Setup all lib and env\n",
    "\n",
    "# fastapi :\n",
    "try:\n",
    "    import fastapi                      \n",
    "    print('fastapi: already installed')\n",
    "except ImportError:\n",
    "  !python -m pip install -q fastapi\n",
    "  print('Installed fastapi')\n",
    "    \n",
    "# uvicorn :\n",
    "try:\n",
    "    import uvicorn                      \n",
    "    print('uvicorn: already installed')\n",
    "except ImportError:\n",
    "  !python -m pip install -q uvicorn\n",
    "  print('Installed uvicorn')\n",
    "    \n",
    "# transformers :\n",
    "try:\n",
    "    import transformers                      \n",
    "    print('transformers: already installed')\n",
    "except ImportError:\n",
    "  !python -m pip install -q transformers\n",
    "  print('Installed transformers')\n",
    "    \n",
    "# torch :\n",
    "try:\n",
    "    import torch                      \n",
    "    print('torch: already installed')\n",
    "except ImportError:\n",
    "  !python -m pip install -q torch\n",
    "  print('Installed torch')\n",
    "    \n",
    "# redis :\n",
    "try:\n",
    "    import redis                      \n",
    "    print('redis: already installed')\n",
    "except ImportError:\n",
    "  !python -m pip install -q redis\n",
    "  print('Installed redis')\n",
    "    \n",
    "# aioredis :\n",
    "try:\n",
    "    import aioredis                      \n",
    "    print('aioredis: already installed')\n",
    "except ImportError:\n",
    "  !python -m pip install -q aioredis\n",
    "  print('Installed aioredis')\n",
    "    \n",
    "# python-socketio[client] :\n",
    "try:\n",
    "    import socketio                      \n",
    "    print('python-socketio[client]: already installed')\n",
    "except ImportError:\n",
    "  !python -m pip install -q python-socketio[client]\n",
    "  print('Installed socketio')\n",
    "    \n",
    "# aiortc :\n",
    "try:\n",
    "    import aiortc                      \n",
    "    print('aiortc: already installed')\n",
    "except ImportError:\n",
    "  !python -m pip install -q aiortc\n",
    "  print('Installed aiortc')\n",
    "    \n",
    "# av :\n",
    "try:\n",
    "    import av                      \n",
    "    print('av: already installed')\n",
    "except ImportError:\n",
    "  !python -m pip install -q av\n",
    "  print('Installed av')\n",
    "    \n",
    "# aiohttp :\n",
    "try:\n",
    "    import aiohttp                      \n",
    "    print('aiohttp: already installed')\n",
    "except ImportError:\n",
    "  !python -m pip install -q aiohttp\n",
    "  print('Installed aiohttp')\n"
   ]
  },
  {
   "cell_type": "markdown",
   "id": "f818d692-cc8e-44f2-b92f-7e69265ce3ab",
   "metadata": {},
   "source": [
    "---\n",
    "## Setup Language Trasnformer Stream API:"
   ]
  },
  {
   "cell_type": "markdown",
   "id": "3f2de3b3-956e-4c0f-b47c-8b5a12e3efe3",
   "metadata": {},
   "source": [
    "## Import libraries:"
   ]
  },
  {
   "cell_type": "code",
   "execution_count": 2,
   "id": "1d9f2f05-ae6e-437b-8e70-ad9f877e8ed7",
   "metadata": {},
   "outputs": [],
   "source": [
    "import json\n",
    "import asyncio\n",
    "from fastapi import FastAPI, WebSocket, Request\n",
    "from transformers import CLIPProcessor, CLIPModel\n",
    "from pydantic import BaseModel\n",
    "import redis\n",
    "import aioredis\n",
    "import socketio\n",
    "from aiortc import RTCPeerConnection, RTCSessionDescription\n",
    "from aiortc.contrib.media import MediaBlackhole\n"
   ]
  },
  {
   "cell_type": "markdown",
   "id": "fa5e815c-d899-4001-be3b-83f89338cc3e",
   "metadata": {},
   "source": [
    "---\n",
    "## Define the FastAPI app, Redis configuration, and CLIP model:"
   ]
  },
  {
   "cell_type": "code",
   "execution_count": 3,
   "id": "86a27bdc-214f-4bd0-b9b0-40a9f744d28b",
   "metadata": {},
   "outputs": [],
   "source": [
    "app = FastAPI()\n",
    "\n",
    "# Redis configuration\n",
    "REDIS_URL = \"redis://localhost:6379\"\n",
    "redis_client = redis.Redis.from_url(REDIS_URL)\n",
    "redis_pubsub = redis_client.pubsub()\n",
    "\n",
    "# Socket.IO client\n",
    "sio = socketio.AsyncClient()"
   ]
  },
  {
   "cell_type": "markdown",
   "id": "881252ae-c2b8-423c-8b75-f1997d1808d9",
   "metadata": {},
   "source": [
    "---\n",
    "## Load the pre-trained model and tokenizer:\n",
    "**Choose a pre-trained model:**\n",
    "\n",
    "Select a suitable pre-trained model from the Hugging Face Model Hub [openai/clip](https://openai/clip-vit-base-patch32). \n",
    "> For example, you can use \"openai/clip-vit-base-patch32\".\n"
   ]
  },
  {
   "cell_type": "markdown",
   "id": "221c5c1d-355f-4b74-a1e9-0679ed10e91e",
   "metadata": {},
   "source": [
    "## Prepare your dataset:\n",
    "\n",
    "> Transform your dataset into a format suitable for training. You'll need to tokenize your text data and create input sequences. You can use the GPT2Tokenizer for this purpose."
   ]
  },
  {
   "cell_type": "code",
   "execution_count": 4,
   "id": "1dfa8ab0-e880-4428-8df8-d84bb1b6e553",
   "metadata": {},
   "outputs": [],
   "source": [
    "# Load CLIP model and processor\n",
    "clip_model = CLIPModel.from_pretrained(\"openai/clip-vit-base-patch32\")\n",
    "clip_processor = CLIPProcessor.from_pretrained(\"openai/clip-vit-base-patch32\")"
   ]
  },
  {
   "cell_type": "markdown",
   "id": "2b0ddb8b-53d3-47c0-a87c-4e6d8c3d6cc4",
   "metadata": {},
   "source": [
    "---\n",
    "\n",
    "## Fine-tune the model:\n",
    "\n",
    ">Fine-tune the pre-trained model on your dataset using a suitable training loop. You can use the Trainer class from the\n",
    "\n",
    "---"
   ]
  },
  {
   "cell_type": "markdown",
   "id": "90a8fee0-f3d2-45bf-874d-fd16b20a31c3",
   "metadata": {},
   "source": [
    "---\n",
    "\n",
    "## Create a Pydantic model to accept input:"
   ]
  },
  {
   "cell_type": "code",
   "execution_count": 5,
   "id": "f2c2514d-68f1-40c3-802f-ded64c1b785c",
   "metadata": {},
   "outputs": [],
   "source": [
    "class ImageTextComparisonInput(BaseModel):\n",
    "    image_url: str\n",
    "    text: str"
   ]
  },
  {
   "cell_type": "markdown",
   "id": "d0e8cbcc-11ea-460f-82a8-6b442321bac9",
   "metadata": {},
   "source": [
    "---\n",
    "## Define the FastAPI endpoint for  image-text comparison:"
   ]
  },
  {
   "cell_type": "code",
   "execution_count": 6,
   "id": "0e20ace6-cf65-4fff-83da-f106bad67fe7",
   "metadata": {},
   "outputs": [],
   "source": [
    "import requests\n",
    "from PIL import Image\n",
    "from io import BytesIO\n",
    "\n",
    "@app.post(\"/compare\")\n",
    "async def compare_image_text(input_data: ImageTextComparisonInput):\n",
    "    image_url = input_data.image_url\n",
    "    text = input_data.text\n",
    "\n",
    "    response = requests.get(image_url)\n",
    "    image = Image.open(BytesIO(response.content))\n",
    "    \n",
    "    inputs = clip_processor(text=text, images=image, return_tensors=\"pt\", padding=True)\n",
    "    logits_per_image = clip_model(**inputs).logits_per_image\n",
    "    probs = logits_per_image.softmax(dim=1).tolist()\n",
    "\n",
    "    # Log interaction to Redis\n",
    "    interaction_data = {\n",
    "        \"image_url\": image_url,\n",
    "        \"text\": text,\n",
    "        \"comparison_score\": probs,\n",
    "    }\n",
    "    redis_client.set(\"interaction\", json.dumps(interaction_data))\n",
    "\n",
    "    # Publish event to Redis Pub/Sub\n",
    "    redis_client.publish(\"events\", json.dumps(interaction_data))\n",
    "\n",
    "    return {\"comparison_score\": probs}\n"
   ]
  },
  {
   "cell_type": "markdown",
   "id": "0ecdb2ad-8b2d-438b-8f64-1af7b6390eca",
   "metadata": {},
   "source": [
    "---\n",
    "## Implement WebRTC for real-time video processing:"
   ]
  },
  {
   "cell_type": "code",
   "execution_count": 7,
   "id": "84763028-9aa2-4ddf-a005-a330836038b0",
   "metadata": {},
   "outputs": [],
   "source": [
    "class RTCConnection:\n",
    "    def __init__(self):\n",
    "        self.peer_connection = RTCPeerConnection()\n",
    "\n",
    "    async def set_description(self, sdp):\n",
    "        await self.peer_connection.setRemoteDescription(RTCSessionDescription(**sdp))\n",
    "        await self.peer_connection.setLocalDescription(await self.peer_connection.createAnswer())\n",
    "\n",
    "        return self.peer_connection.localDescription\n",
    "\n",
    "    async def close(self):\n",
    "        await self.peer_connection.close()\n",
    "\n",
    "connections = {}\n",
    "\n",
    "@app.post(\"/offer\")\n",
    "async def offer(request: Request):\n",
    "    params = await request.json()\n",
    "    connection_id = params[\"connectionId\"]\n",
    "    sdp = params[\"sdp\"]\n",
    "\n",
    "    connection = RTCConnection()\n",
    "    local_description = await connection.set_description(sdp)\n",
    "\n",
    "    connections[connection_id] = connection\n",
    "\n",
    "    return {\"sdp\": local_description.sdp, \"type\": local_description.type}\n",
    "\n",
    "@app.post(\"/close/{connection_id}\")\n",
    "async def close(connection_id: str):\n",
    "    if connection_id in connections:\n",
    "        await connections[connection_id].close()\n",
    "        del connections[connection_id]\n",
    "\n",
    "    return {\"result\": \"connection_closed\"}\n"
   ]
  },
  {
   "cell_type": "markdown",
   "id": "897aba15-5539-45a7-abdc-5804f6595e72",
   "metadata": {},
   "source": [
    "---\n",
    "## Run the FastAPI application in the Jupyter Notebook:"
   ]
  },
  {
   "cell_type": "markdown",
   "id": "dde099fd-2e11-4267-8cfe-981f44716ecd",
   "metadata": {},
   "source": [
    "> Note that the pyngrok package is optional and only needed if you want to expose your API to the internet using ngrok. To install the pyngrok package, run:"
   ]
  },
  {
   "cell_type": "code",
   "execution_count": 8,
   "id": "08c02add-6b0d-429c-bbf8-19f77f9908c2",
   "metadata": {
    "jupyter": {
     "source_hidden": true
    }
   },
   "outputs": [
    {
     "name": "stdout",
     "output_type": "stream",
     "text": [
      "pyngrok: already installed\n"
     ]
    }
   ],
   "source": [
    "#pip install pyngrok\n",
    "# pyngrok :\n",
    "try:\n",
    "    import pyngrok                      \n",
    "    print('pyngrok: already installed')\n",
    "except ImportError:\n",
    "  !python -m pip install -q pyngrok\n",
    "  print('Installed pyngrok')"
   ]
  },
  {
   "cell_type": "code",
   "execution_count": 9,
   "id": "a2a0a07c-ad8d-4573-8127-333d96eafa15",
   "metadata": {},
   "outputs": [
    {
     "name": "stderr",
     "output_type": "stream",
     "text": [
      "t=2023-08-07T22:11:56-0700 lvl=warn msg=\"ngrok config file found at legacy location, move to XDG location\" xdg_path=C:\\\\Users\\\\wesle\\\\AppData\\\\Local/ngrok/ngrok.yml legacy_path=C:\\\\Users\\\\wesle\\\\.ngrok2\\\\ngrok.yml\n",
      "INFO:     Started server process [151004]\n",
      "INFO:     Waiting for application startup.\n",
      "INFO:     Application startup complete.\n",
      "INFO:     Uvicorn running on http://0.0.0.0:8400 (Press CTRL+C to quit)\n"
     ]
    },
    {
     "name": "stdout",
     "output_type": "stream",
     "text": [
      "Public URL: https://50bf-69-172-154-170.ngrok.io\n"
     ]
    },
    {
     "name": "stderr",
     "output_type": "stream",
     "text": [
      "INFO:     Shutting down\n",
      "INFO:     Waiting for application shutdown.\n",
      "INFO:     Application shutdown complete.\n",
      "INFO:     Finished server process [151004]\n"
     ]
    }
   ],
   "source": [
    "import nest_asyncio\n",
    "from pyngrok import ngrok\n",
    "import uvicorn\n",
    "\n",
    "nest_asyncio.apply()\n",
    "\n",
    "# Set up ngrok for external access (optional)\n",
    "ngrok_tunnel = ngrok.connect(8000)\n",
    "print(\"Public URL:\", ngrok_tunnel.public_url)\n",
    "\n",
    "# Run the FastAPI app\n",
    "uvicorn.run(app, host=\"0.0.0.0\", port=8400)\n"
   ]
  },
  {
   "cell_type": "markdown",
   "id": "aed59efd-ded1-47e3-9c1f-f9e5af5f36f9",
   "metadata": {
    "tags": []
   },
   "source": [
    "---\n",
    "## Test API with a gardio interface"
   ]
  },
  {
   "cell_type": "code",
   "execution_count": 10,
   "id": "48c63a5b-f506-426c-b435-0e6559c46f34",
   "metadata": {
    "jupyter": {
     "source_hidden": true
    },
    "tags": []
   },
   "outputs": [],
   "source": [
    "# # pip install gradio\n",
    "\n",
    "# # gradio :\n",
    "# try:\n",
    "#     import gradio                      \n",
    "#     print('gradio: already installed')\n",
    "# except ImportError:\n",
    "#   !python -m pip install -q gradio\n",
    "#   print('Installed gradio')\n"
   ]
  },
  {
   "cell_type": "code",
   "execution_count": 11,
   "id": "6168089a-f249-453c-9d00-1f9ca428b53b",
   "metadata": {
    "jupyter": {
     "source_hidden": true
    }
   },
   "outputs": [],
   "source": [
    "# import gradio as gr\n",
    "\n",
    "# def compare_image_text(image, text):\n",
    "#     import requests\n",
    "#     from PIL import Image\n",
    "#     import io\n",
    "\n",
    "#     buffer = io.BytesIO()\n",
    "#     image.save(buffer, format=\"PNG\")\n",
    "#     buffer.seek(0)\n",
    "\n",
    "#     image_url = \"your_image_upload_service_url\"  # Replace with a service to upload images and return their URL\n",
    "#     response = requests.post(image_url, files={\"image\": buffer})\n",
    "\n",
    "#     if response.status_code == 200:\n",
    "#         image_url = response.json()[\"url\"]\n",
    "#         response = requests.post(\"http://localhost:8000/compare\", json={\"image_url\": image_url, \"text\": text})\n",
    "#         if response.status_code == 200:\n",
    "#             comparison_score = response.json()[\"comparison_score\"]\n",
    "#             return {\"Comparison Score\": comparison_score}\n",
    "#         else:\n",
    "#             return {\"Comparison Score\": \"Error\"}\n",
    "#     else:\n",
    "#         return {\"Comparison Score\": \"Error\"}\n",
    "\n",
    "# iface = gr.Interface(fn=compare_image_text, inputs=[\"image\", \"text\"], outputs=\"text\", title=\"CLIP Image-Text Comparison\")\n",
    "# iface.launch()\n"
   ]
  }
 ],
 "metadata": {
  "kernelspec": {
   "display_name": "Python 3 (ipykernel)",
   "language": "python",
   "name": "python3"
  },
  "language_info": {
   "codemirror_mode": {
    "name": "ipython",
    "version": 3
   },
   "file_extension": ".py",
   "mimetype": "text/x-python",
   "name": "python",
   "nbconvert_exporter": "python",
   "pygments_lexer": "ipython3",
   "version": "3.9.16"
  },
  "widgets": {
   "application/vnd.jupyter.widget-state+json": {
    "state": {},
    "version_major": 2,
    "version_minor": 0
   }
  }
 },
 "nbformat": 4,
 "nbformat_minor": 5
}
