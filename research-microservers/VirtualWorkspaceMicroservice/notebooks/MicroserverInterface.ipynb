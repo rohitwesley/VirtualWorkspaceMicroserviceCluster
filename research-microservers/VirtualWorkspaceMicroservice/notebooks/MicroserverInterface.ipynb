{
 "cells": [
  {
   "cell_type": "markdown",
   "id": "ce985397-90d0-40f7-81d0-794f0b08dc92",
   "metadata": {
    "tags": []
   },
   "source": [
    "# Virtual Workspace Web App Microserver Interface\n",
    "---"
   ]
  },
  {
   "cell_type": "markdown",
   "id": "8f621b38-58a3-4c60-9892-d867ad76fd24",
   "metadata": {
    "jp-MarkdownHeadingCollapsed": true,
    "tags": []
   },
   "source": [
    "##  Setup all lib and env:\n",
    "**Python Lib:**\n",
    ">* gradio - *for webbrowser interface*\n",
    "\n",
    "```\n",
    "pip install gradio\n",
    "\n",
    "```"
   ]
  },
  {
   "cell_type": "code",
   "execution_count": null,
   "id": "237aa538-7178-497d-ae9f-e08824a50271",
   "metadata": {
    "collapsed": true,
    "jupyter": {
     "outputs_hidden": true,
     "source_hidden": true
    }
   },
   "outputs": [],
   "source": []
  },
  {
   "cell_type": "code",
   "execution_count": null,
   "id": "01bdb1d8-6592-44a1-bb83-e487ff0c2bdd",
   "metadata": {
    "collapsed": true,
    "jupyter": {
     "outputs_hidden": true,
     "source_hidden": true
    }
   },
   "outputs": [],
   "source": []
  },
  {
   "cell_type": "code",
   "execution_count": null,
   "id": "730496cc-d2a5-43ce-b96d-94e217c0dd36",
   "metadata": {
    "collapsed": true,
    "jupyter": {
     "outputs_hidden": true,
     "source_hidden": true
    }
   },
   "outputs": [],
   "source": []
  },
  {
   "cell_type": "code",
   "execution_count": null,
   "id": "ccacf81f-ccbd-4e06-804f-46da8a973f19",
   "metadata": {
    "collapsed": true,
    "jupyter": {
     "outputs_hidden": true,
     "source_hidden": true
    }
   },
   "outputs": [],
   "source": []
  },
  {
   "cell_type": "code",
   "execution_count": 1,
   "id": "82172836-929d-439a-ab61-13459b72de91",
   "metadata": {
    "collapsed": true,
    "jupyter": {
     "outputs_hidden": true,
     "source_hidden": true
    },
    "tags": []
   },
   "outputs": [
    {
     "name": "stderr",
     "output_type": "stream",
     "text": [
      "WARNING: Ignoring invalid distribution -rotobuf (c:\\users\\wesle\\anaconda3\\envs\\viretualworkspace\\lib\\site-packages)\n",
      "WARNING: Ignoring invalid distribution -rotobuf (c:\\users\\wesle\\anaconda3\\envs\\viretualworkspace\\lib\\site-packages)\n",
      "WARNING: Ignoring invalid distribution -rotobuf (c:\\users\\wesle\\anaconda3\\envs\\viretualworkspace\\lib\\site-packages)\n",
      "WARNING: Ignoring invalid distribution -rotobuf (c:\\users\\wesle\\anaconda3\\envs\\viretualworkspace\\lib\\site-packages)\n",
      "WARNING: Ignoring invalid distribution -rotobuf (c:\\users\\wesle\\anaconda3\\envs\\viretualworkspace\\lib\\site-packages)\n",
      "WARNING: Ignoring invalid distribution -rotobuf (c:\\users\\wesle\\anaconda3\\envs\\viretualworkspace\\lib\\site-packages)\n"
     ]
    },
    {
     "name": "stdout",
     "output_type": "stream",
     "text": [
      "gradio: already installed\n"
     ]
    }
   ],
   "source": [
    "# Setup all lib and env\n",
    "\n",
    "# gradio :\n",
    "try:\n",
    "    !python -m pip install -q gradio --upgrade\n",
    "    import gradio                      \n",
    "    print('gradio: already installed')\n",
    "except ImportError:\n",
    "  !python -m pip install -q gradio\n",
    "  print('Installed gradio')\n"
   ]
  },
  {
   "cell_type": "markdown",
   "id": "f1b630a3-abc5-4415-9914-6820e307ca4d",
   "metadata": {},
   "source": [
    "## Test API with a gardio interface"
   ]
  },
  {
   "cell_type": "code",
   "execution_count": 2,
   "id": "70d4a0b4-d24b-4592-b5b6-5f7b297d94de",
   "metadata": {
    "collapsed": true,
    "jupyter": {
     "outputs_hidden": true,
     "source_hidden": true
    },
    "tags": []
   },
   "outputs": [
    {
     "name": "stderr",
     "output_type": "stream",
     "text": [
      "C:\\Users\\wesle\\anaconda3\\envs\\ViretualWorkspace\\lib\\site-packages\\gradio\\inputs.py:27: UserWarning: Usage of gradio.inputs is deprecated, and will not be supported in the future, please import your component from gradio.components\n",
      "  warnings.warn(\n",
      "C:\\Users\\wesle\\anaconda3\\envs\\ViretualWorkspace\\lib\\site-packages\\gradio\\deprecation.py:40: UserWarning: `optional` parameter is deprecated, and it has no effect\n",
      "  warnings.warn(value)\n",
      "C:\\Users\\wesle\\anaconda3\\envs\\ViretualWorkspace\\lib\\site-packages\\gradio\\deprecation.py:40: UserWarning: `numeric` parameter is deprecated, and it has no effect\n",
      "  warnings.warn(value)\n",
      "C:\\Users\\wesle\\anaconda3\\envs\\ViretualWorkspace\\lib\\site-packages\\gradio\\inputs.py:347: UserWarning: Usage of gradio.inputs is deprecated, and will not be supported in the future, please import your components from gradio.components\n",
      "  warnings.warn(\n",
      "C:\\Users\\wesle\\anaconda3\\envs\\ViretualWorkspace\\lib\\site-packages\\gradio\\deprecation.py:40: UserWarning: `keep_filename` parameter is deprecated, and it has no effect\n",
      "  warnings.warn(value)\n",
      "C:\\Users\\wesle\\anaconda3\\envs\\ViretualWorkspace\\lib\\site-packages\\gradio\\inputs.py:319: UserWarning: Usage of gradio.inputs is deprecated, and will not be supported in the future, please import your components from gradio.components\n",
      "  warnings.warn(\n",
      "C:\\Users\\wesle\\anaconda3\\envs\\ViretualWorkspace\\lib\\site-packages\\gradio\\inputs.py:257: UserWarning: Usage of gradio.inputs is deprecated, and will not be supported in the future, please import your component from gradio.components\n",
      "  warnings.warn(\n",
      "C:\\Users\\wesle\\anaconda3\\envs\\ViretualWorkspace\\lib\\site-packages\\gradio\\outputs.py:43: UserWarning: Usage of gradio.outputs is deprecated, and will not be supported in the future, please import your components from gradio.components\n",
      "  warnings.warn(\n"
     ]
    },
    {
     "ename": "ValueError",
     "evalue": "Invalid value for parameter `type`: auto. Please choose from one of: ['numpy', 'pil', 'filepath']",
     "output_type": "error",
     "traceback": [
      "\u001b[1;31m---------------------------------------------------------------------------\u001b[0m",
      "\u001b[1;31mValueError\u001b[0m                                Traceback (most recent call last)",
      "Cell \u001b[1;32mIn[2], line 19\u001b[0m\n\u001b[0;32m     16\u001b[0m input_audio \u001b[38;5;241m=\u001b[39m gr\u001b[38;5;241m.\u001b[39minputs\u001b[38;5;241m.\u001b[39mAudio(label\u001b[38;5;241m=\u001b[39m\u001b[38;5;124m\"\u001b[39m\u001b[38;5;124mInput Audio\u001b[39m\u001b[38;5;124m\"\u001b[39m)\n\u001b[0;32m     17\u001b[0m input_image \u001b[38;5;241m=\u001b[39m gr\u001b[38;5;241m.\u001b[39minputs\u001b[38;5;241m.\u001b[39mImage(label\u001b[38;5;241m=\u001b[39m\u001b[38;5;124m\"\u001b[39m\u001b[38;5;124mInput Image\u001b[39m\u001b[38;5;124m\"\u001b[39m)\n\u001b[1;32m---> 19\u001b[0m output_image \u001b[38;5;241m=\u001b[39m \u001b[43mgr\u001b[49m\u001b[38;5;241;43m.\u001b[39;49m\u001b[43moutputs\u001b[49m\u001b[38;5;241;43m.\u001b[39;49m\u001b[43mImage\u001b[49m\u001b[43m(\u001b[49m\u001b[43mlabel\u001b[49m\u001b[38;5;241;43m=\u001b[39;49m\u001b[38;5;124;43m\"\u001b[39;49m\u001b[38;5;124;43mOutput Image\u001b[39;49m\u001b[38;5;124;43m\"\u001b[39;49m\u001b[43m)\u001b[49m\n\u001b[0;32m     20\u001b[0m output_text \u001b[38;5;241m=\u001b[39m gr\u001b[38;5;241m.\u001b[39moutputs\u001b[38;5;241m.\u001b[39mTextbox(label\u001b[38;5;241m=\u001b[39m\u001b[38;5;124m\"\u001b[39m\u001b[38;5;124mOutput Text\u001b[39m\u001b[38;5;124m\"\u001b[39m)\n\u001b[0;32m     21\u001b[0m output_audio \u001b[38;5;241m=\u001b[39m gr\u001b[38;5;241m.\u001b[39moutputs\u001b[38;5;241m.\u001b[39mAudio(label\u001b[38;5;241m=\u001b[39m\u001b[38;5;124m\"\u001b[39m\u001b[38;5;124mOutput Audio\u001b[39m\u001b[38;5;124m\"\u001b[39m)\n",
      "File \u001b[1;32m~\\anaconda3\\envs\\ViretualWorkspace\\lib\\site-packages\\gradio\\outputs.py:48\u001b[0m, in \u001b[0;36mImage.__init__\u001b[1;34m(self, type, plot, label)\u001b[0m\n\u001b[0;32m     46\u001b[0m \u001b[38;5;28;01mif\u001b[39;00m plot:\n\u001b[0;32m     47\u001b[0m     \u001b[38;5;28mtype\u001b[39m \u001b[38;5;241m=\u001b[39m \u001b[38;5;124m\"\u001b[39m\u001b[38;5;124mplot\u001b[39m\u001b[38;5;124m\"\u001b[39m\n\u001b[1;32m---> 48\u001b[0m \u001b[38;5;28;43msuper\u001b[39;49m\u001b[43m(\u001b[49m\u001b[43m)\u001b[49m\u001b[38;5;241;43m.\u001b[39;49m\u001b[38;5;21;43m__init__\u001b[39;49m\u001b[43m(\u001b[49m\u001b[38;5;28;43mtype\u001b[39;49m\u001b[38;5;241;43m=\u001b[39;49m\u001b[38;5;28;43mtype\u001b[39;49m\u001b[43m,\u001b[49m\u001b[43m \u001b[49m\u001b[43mlabel\u001b[49m\u001b[38;5;241;43m=\u001b[39;49m\u001b[43mlabel\u001b[49m\u001b[43m)\u001b[49m\n",
      "File \u001b[1;32m~\\anaconda3\\envs\\ViretualWorkspace\\lib\\site-packages\\gradio\\components.py:1645\u001b[0m, in \u001b[0;36mImage.__init__\u001b[1;34m(self, value, shape, image_mode, invert_colors, source, tool, type, label, every, show_label, interactive, visible, streaming, elem_id, elem_classes, mirror_webcam, brush_radius, **kwargs)\u001b[0m\n\u001b[0;32m   1643\u001b[0m valid_types \u001b[38;5;241m=\u001b[39m [\u001b[38;5;124m\"\u001b[39m\u001b[38;5;124mnumpy\u001b[39m\u001b[38;5;124m\"\u001b[39m, \u001b[38;5;124m\"\u001b[39m\u001b[38;5;124mpil\u001b[39m\u001b[38;5;124m\"\u001b[39m, \u001b[38;5;124m\"\u001b[39m\u001b[38;5;124mfilepath\u001b[39m\u001b[38;5;124m\"\u001b[39m]\n\u001b[0;32m   1644\u001b[0m \u001b[38;5;28;01mif\u001b[39;00m \u001b[38;5;28mtype\u001b[39m \u001b[38;5;129;01mnot\u001b[39;00m \u001b[38;5;129;01min\u001b[39;00m valid_types:\n\u001b[1;32m-> 1645\u001b[0m     \u001b[38;5;28;01mraise\u001b[39;00m \u001b[38;5;167;01mValueError\u001b[39;00m(\n\u001b[0;32m   1646\u001b[0m         \u001b[38;5;124mf\u001b[39m\u001b[38;5;124m\"\u001b[39m\u001b[38;5;124mInvalid value for parameter `type`: \u001b[39m\u001b[38;5;132;01m{\u001b[39;00m\u001b[38;5;28mtype\u001b[39m\u001b[38;5;132;01m}\u001b[39;00m\u001b[38;5;124m. Please choose from one of: \u001b[39m\u001b[38;5;132;01m{\u001b[39;00mvalid_types\u001b[38;5;132;01m}\u001b[39;00m\u001b[38;5;124m\"\u001b[39m\n\u001b[0;32m   1647\u001b[0m     )\n\u001b[0;32m   1648\u001b[0m \u001b[38;5;28mself\u001b[39m\u001b[38;5;241m.\u001b[39mtype \u001b[38;5;241m=\u001b[39m \u001b[38;5;28mtype\u001b[39m\n\u001b[0;32m   1649\u001b[0m \u001b[38;5;28mself\u001b[39m\u001b[38;5;241m.\u001b[39mshape \u001b[38;5;241m=\u001b[39m shape\n",
      "\u001b[1;31mValueError\u001b[0m: Invalid value for parameter `type`: auto. Please choose from one of: ['numpy', 'pil', 'filepath']"
     ]
    }
   ],
   "source": [
    "import gradio as gr\n",
    "import requests\n",
    "from PIL import Image\n",
    "from io import BytesIO\n",
    "\n",
    "# Define API endpoints\n",
    "text_to_image_url = \"http://localhost:8000/text-to-image\"\n",
    "text_to_text_url = \"http://localhost:8000/text-to-text\"\n",
    "text_to_speech_url = \"http://localhost:8000/text-to-speech\"\n",
    "speech_to_text_url = \"http://localhost:8000/speech-to-text\"\n",
    "image_manipulation_url = \"http://localhost:8000/image-manipulation\"\n",
    "\n",
    "# Create input and output components for Gradio interface\n",
    "input_text = gr.inputs.Textbox(label=\"Input Text\")\n",
    "input_file = gr.inputs.File(label=\"Input File\")\n",
    "input_audio = gr.inputs.Audio(label=\"Input Audio\")\n",
    "input_image = gr.inputs.Image(label=\"Input Image\")\n",
    "\n",
    "output_image = gr.outputs.Image(label=\"Output Image\")\n",
    "output_text = gr.outputs.Textbox(label=\"Output Text\")\n",
    "output_audio = gr.outputs.Audio(label=\"Output Audio\")\n",
    "\n",
    "# Define functions to make API requests\n",
    "def text_to_image(text):\n",
    "    response = requests.post(text_to_image_url, json={\"text\": text})\n",
    "    img = Image.open(BytesIO(response.content))\n",
    "    return img\n",
    "\n",
    "def text_to_text(text):\n",
    "    response = requests.post(text_to_text_url, json={\"text\": text})\n",
    "    return response.json()[\"text\"]\n",
    "\n",
    "def text_to_speech(text):\n",
    "    response = requests.post(text_to_speech_url, json={\"text\": text})\n",
    "    return BytesIO(response.content)\n",
    "\n",
    "def speech_to_text(audio):\n",
    "    files = {\"audio\": (\"input_audio.wav\", audio.read(), \"audio/wav\")}\n",
    "    response = requests.post(speech_to_text_url, files=files)\n",
    "    return response.json()[\"text\"]\n",
    "\n",
    "def image_manipulation(file, manipulation_type):\n",
    "    files = {\"image\": (\"input_image.jpg\", file.read(), \"image/jpeg\")}\n",
    "    response = requests.post(image_manipulation_url, files=files, data={\"manipulation_type\": manipulation_type})\n",
    "    img = Image.open(BytesIO(response.content))\n",
    "    return img\n",
    "\n",
    "# Create Gradio interface\n",
    "gr.Interface(\n",
    "    [\n",
    "        gr.inputs.Group(\n",
    "            [\n",
    "                input_text,\n",
    "                gr.inputs.Radio([\"Style Transfer\", \"Colorization\"], label=\"Select Manipulation Type\"),\n",
    "                input_file,\n",
    "                input_audio,\n",
    "                input_image\n",
    "            ],\n",
    "            label=\"Input\"\n",
    "        ),\n",
    "        gr.outputs.Group(\n",
    "            [\n",
    "                output_image,\n",
    "                output_text,\n",
    "                output_audio\n",
    "            ],\n",
    "            label=\"Output\"\n",
    "        )\n",
    "    ],\n",
    "    title=\"Generative Models and Image Manipulation\",\n",
    "    description=\"A collection of generative models and image manipulation algorithms.\",\n",
    "    examples=[\n",
    "        [\"A fluffy cat sitting on a table\"],\n",
    "        [\"A bright red sports car\"],\n",
    "        [gr.Interface.IMAGE_EXAMPLES[\"cat\"], \"Style Transfer\"],\n",
    "        [gr.Interface.AUDIO_EXAMPLES[\"beatbox\"], \"Text-to-Speech\"],\n",
    "        [gr.Interface.IMAGE_EXAMPLES[\"cat\"], \"Colorization\"]\n",
    "    ],\n",
    "    theme=\"default\",\n",
    "    layout=\"vertical\",\n",
    "    live=True,\n",
    "    interpretation=\"default\"\n",
    ").launch()\n"
   ]
  },
  {
   "cell_type": "code",
   "execution_count": null,
   "id": "a83a99d0-e83f-4d36-83f3-b3109b55377c",
   "metadata": {
    "collapsed": true,
    "jupyter": {
     "outputs_hidden": true,
     "source_hidden": true
    },
    "tags": []
   },
   "outputs": [],
   "source": []
  },
  {
   "cell_type": "code",
   "execution_count": null,
   "id": "6bb6a25f-3b07-4bf0-9570-78f62dd0f5e7",
   "metadata": {
    "collapsed": true,
    "jupyter": {
     "outputs_hidden": true,
     "source_hidden": true
    }
   },
   "outputs": [],
   "source": []
  },
  {
   "cell_type": "code",
   "execution_count": 2,
   "id": "a83ea260-99f8-4a62-9219-321a9b21c724",
   "metadata": {
    "collapsed": true,
    "jupyter": {
     "outputs_hidden": true,
     "source_hidden": true
    },
    "tags": []
   },
   "outputs": [
    {
     "name": "stderr",
     "output_type": "stream",
     "text": [
      "C:\\Users\\wesle\\anaconda3\\envs\\ViretualWorkspace\\lib\\site-packages\\gradio\\inputs.py:26: UserWarning: Usage of gradio.inputs is deprecated, and will not be supported in the future, please import your component from gradio.components\n",
      "  warnings.warn(\n",
      "C:\\Users\\wesle\\anaconda3\\envs\\ViretualWorkspace\\lib\\site-packages\\gradio\\deprecation.py:40: UserWarning: `optional` parameter is deprecated, and it has no effect\n",
      "  warnings.warn(value)\n",
      "C:\\Users\\wesle\\anaconda3\\envs\\ViretualWorkspace\\lib\\site-packages\\gradio\\deprecation.py:40: UserWarning: `numeric` parameter is deprecated, and it has no effect\n",
      "  warnings.warn(value)\n",
      "C:\\Users\\wesle\\anaconda3\\envs\\ViretualWorkspace\\lib\\site-packages\\gradio\\inputs.py:346: UserWarning: Usage of gradio.inputs is deprecated, and will not be supported in the future, please import your components from gradio.components\n",
      "  warnings.warn(\n",
      "C:\\Users\\wesle\\anaconda3\\envs\\ViretualWorkspace\\lib\\site-packages\\gradio\\deprecation.py:40: UserWarning: `keep_filename` parameter is deprecated, and it has no effect\n",
      "  warnings.warn(value)\n",
      "C:\\Users\\wesle\\anaconda3\\envs\\ViretualWorkspace\\lib\\site-packages\\gradio\\outputs.py:21: UserWarning: Usage of gradio.outputs is deprecated, and will not be supported in the future, please import your components from gradio.components\n",
      "  warnings.warn(\n"
     ]
    },
    {
     "ename": "AttributeError",
     "evalue": "module 'gradio.inputs' has no attribute 'Group'",
     "output_type": "error",
     "traceback": [
      "\u001b[1;31m---------------------------------------------------------------------------\u001b[0m",
      "\u001b[1;31mAttributeError\u001b[0m                            Traceback (most recent call last)",
      "Cell \u001b[1;32mIn[2], line 21\u001b[0m\n\u001b[0;32m     16\u001b[0m     \u001b[38;5;28;01mreturn\u001b[39;00m response\u001b[38;5;241m.\u001b[39mjson()[\u001b[38;5;124m\"\u001b[39m\u001b[38;5;124mtext\u001b[39m\u001b[38;5;124m\"\u001b[39m]\n\u001b[0;32m     18\u001b[0m \u001b[38;5;66;03m# Create Gradio interface\u001b[39;00m\n\u001b[0;32m     19\u001b[0m gr\u001b[38;5;241m.\u001b[39mInterface(\n\u001b[0;32m     20\u001b[0m     [\n\u001b[1;32m---> 21\u001b[0m         \u001b[43mgr\u001b[49m\u001b[38;5;241;43m.\u001b[39;49m\u001b[43minputs\u001b[49m\u001b[38;5;241;43m.\u001b[39;49m\u001b[43mGroup\u001b[49m(\n\u001b[0;32m     22\u001b[0m             [\n\u001b[0;32m     23\u001b[0m                 input_text,\n\u001b[0;32m     24\u001b[0m                 input_file\n\u001b[0;32m     25\u001b[0m             ],\n\u001b[0;32m     26\u001b[0m             label\u001b[38;5;241m=\u001b[39m\u001b[38;5;124m\"\u001b[39m\u001b[38;5;124mInput\u001b[39m\u001b[38;5;124m\"\u001b[39m\n\u001b[0;32m     27\u001b[0m         ),\n\u001b[0;32m     28\u001b[0m         gr\u001b[38;5;241m.\u001b[39moutputs\u001b[38;5;241m.\u001b[39mGroup(\n\u001b[0;32m     29\u001b[0m             [\n\u001b[0;32m     30\u001b[0m                 output_text\n\u001b[0;32m     31\u001b[0m             ],\n\u001b[0;32m     32\u001b[0m             label\u001b[38;5;241m=\u001b[39m\u001b[38;5;124m\"\u001b[39m\u001b[38;5;124mOutput\u001b[39m\u001b[38;5;124m\"\u001b[39m\n\u001b[0;32m     33\u001b[0m         )\n\u001b[0;32m     34\u001b[0m     ],\n\u001b[0;32m     35\u001b[0m     title\u001b[38;5;241m=\u001b[39m\u001b[38;5;124m\"\u001b[39m\u001b[38;5;124mGenerative Models and Image Manipulation\u001b[39m\u001b[38;5;124m\"\u001b[39m,\n\u001b[0;32m     36\u001b[0m     description\u001b[38;5;241m=\u001b[39m\u001b[38;5;124m\"\u001b[39m\u001b[38;5;124mA collection of generative models and image manipulation algorithms.\u001b[39m\u001b[38;5;124m\"\u001b[39m,\n\u001b[0;32m     37\u001b[0m     examples\u001b[38;5;241m=\u001b[39m[\n\u001b[0;32m     38\u001b[0m         [\u001b[38;5;124m\"\u001b[39m\u001b[38;5;124mA fluffy cat sitting on a table\u001b[39m\u001b[38;5;124m\"\u001b[39m],\n\u001b[0;32m     39\u001b[0m         [\u001b[38;5;124m\"\u001b[39m\u001b[38;5;124mA bright red sports car\u001b[39m\u001b[38;5;124m\"\u001b[39m]\n\u001b[0;32m     40\u001b[0m     ],\n\u001b[0;32m     41\u001b[0m     theme\u001b[38;5;241m=\u001b[39m\u001b[38;5;124m\"\u001b[39m\u001b[38;5;124mdefault\u001b[39m\u001b[38;5;124m\"\u001b[39m,\n\u001b[0;32m     42\u001b[0m     layout\u001b[38;5;241m=\u001b[39m\u001b[38;5;124m\"\u001b[39m\u001b[38;5;124mvertical\u001b[39m\u001b[38;5;124m\"\u001b[39m,\n\u001b[0;32m     43\u001b[0m     live\u001b[38;5;241m=\u001b[39m\u001b[38;5;28;01mTrue\u001b[39;00m,\n\u001b[0;32m     44\u001b[0m     interpretation\u001b[38;5;241m=\u001b[39m\u001b[38;5;124m\"\u001b[39m\u001b[38;5;124mdefault\u001b[39m\u001b[38;5;124m\"\u001b[39m\n\u001b[0;32m     45\u001b[0m )\u001b[38;5;241m.\u001b[39mlaunch()\n",
      "\u001b[1;31mAttributeError\u001b[0m: module 'gradio.inputs' has no attribute 'Group'"
     ]
    }
   ],
   "source": [
    "import gradio as gr\n",
    "import requests\n",
    "from PIL import Image\n",
    "from io import BytesIO\n",
    "\n",
    "# Define API endpoints\n",
    "text_to_text_url = \"http://localhost:8000/text-to-text\"\n",
    "\n",
    "# Create input and output components for Gradio interface\n",
    "input_text = gr.inputs.Textbox(label=\"Input Text\")\n",
    "input_file = gr.inputs.File(label=\"Input File\")\n",
    "\n",
    "output_text = gr.outputs.Textbox(label=\"Output Text\")\n",
    "def text_to_text(text):\n",
    "    response = requests.post(text_to_text_url, json={\"text\": text})\n",
    "    return response.json()[\"text\"]\n",
    "\n",
    "# Create Gradio interface\n",
    "gr.Interface(\n",
    "    [\n",
    "        gr.inputs.Group(\n",
    "            [\n",
    "                input_text,\n",
    "                input_file\n",
    "            ],\n",
    "            label=\"Input\"\n",
    "        ),\n",
    "        gr.outputs.Group(\n",
    "            [\n",
    "                output_text\n",
    "            ],\n",
    "            label=\"Output\"\n",
    "        )\n",
    "    ],\n",
    "    title=\"Generative Models and Image Manipulation\",\n",
    "    description=\"A collection of generative models and image manipulation algorithms.\",\n",
    "    examples=[\n",
    "        [\"A fluffy cat sitting on a table\"],\n",
    "        [\"A bright red sports car\"]\n",
    "    ],\n",
    "    theme=\"default\",\n",
    "    layout=\"vertical\",\n",
    "    live=True,\n",
    "    interpretation=\"default\"\n",
    ").launch()\n"
   ]
  },
  {
   "cell_type": "code",
   "execution_count": null,
   "id": "794cd299-4212-4162-9d67-5f25238bcf2f",
   "metadata": {
    "collapsed": true,
    "jupyter": {
     "outputs_hidden": true,
     "source_hidden": true
    }
   },
   "outputs": [],
   "source": []
  }
 ],
 "metadata": {
  "kernelspec": {
   "display_name": "Python 3 (ipykernel)",
   "language": "python",
   "name": "python3"
  },
  "language_info": {
   "codemirror_mode": {
    "name": "ipython",
    "version": 3
   },
   "file_extension": ".py",
   "mimetype": "text/x-python",
   "name": "python",
   "nbconvert_exporter": "python",
   "pygments_lexer": "ipython3",
   "version": "3.9.16"
  }
 },
 "nbformat": 4,
 "nbformat_minor": 5
}
